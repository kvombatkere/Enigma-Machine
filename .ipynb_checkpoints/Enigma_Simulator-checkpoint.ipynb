{
 "cells": [
  {
   "cell_type": "markdown",
   "metadata": {},
   "source": [
    "### Karan Vombatkere\n",
    "CSC 481: Cryptography - 08 October 2017"
   ]
  },
  {
   "cell_type": "markdown",
   "metadata": {},
   "source": [
    "### Building an Enigma Machine Simulator\n",
    "\n",
    "#### Abstract\n",
    "The Enigma machine was used by the German military forces in World War 2 (WW2) to encrypt messages. It was designed by engineer Arthur Scherbius at the end of World War 1. The Enigma machine is an electro-mechanical device that both Encrypts and Decrypts communication text. It was used within all channels of communication of the German military and several models were implemented over the course of the 1930's and 1940's to improve the cipher strength. The Enigma was eventually cracked by British cryptanalysts at Bletchley Park, a joint effort of mathematicians, engineers and crossword enthusiasts led by Alan Turing. This paper discusses a Python (simulation) implementation of the Enigma Machine. The machine was simulated based on all the real parameters and wiring of the Enigma, and code was written to build a design of the rotors, plugboard, and reflector.\n",
    "\n",
    "#### Overview of Functionality\n",
    "Discussed below is theory and method used to build the German Enigma Machine. The simulator was implemented using Python and classes were written to specify the object structure of each individual component. The implementation was as per the original Enigma wirings, and the simulator was designed to be initialized and reprogrammed with different keys. \n",
    "\n",
    "In terms of an overview of the design, the machine takes a text string as an input, first processes it to remove spaces and special characters and then encrypts or decrypts each character of the string separately as per the Enigma Cipher (explained subsequently). The Enigma machine outputs a string of letters, where each letter has been encrypted (or decrypted). This can be summarized with the following equation, for an input string $X = [x_1,x_2,...,x_n]$, the Enigma Machine returns an output string $Y = [y_1,y_2,...,y_n]$, where each input $x_i$ character is manipulated in the following way:\n",
    "\n",
    "$$x_i\\rightarrow Enigma(x_i)\\rightarrow y_i$$\n",
    "\n",
    "Note that $Enigma(x_i)$, the encryption (or decryption) function is dependent on $i$ since it changes for every letter in the string as per the functionality of the Enigma machine. The machine was originally designed using the following electro-mechanical components:\n",
    "\n",
    "1. **Plugboard:** The plugboard was designed to swap pairs of letters that were input into subsequent stages of the Enigma. The plugboard enables a certain number of swapped letters and can be re-programmed as per the key. For example for a particular plugboard configuration the following pairs of letters might be swapped: $[P,E],[C,K],[T,X],[U,F],[R,L],[Y,H]$\n",
    "\n",
    "2. **Rotors:** The Enigma consisted of a set of 8 rotors, of which any 3 could be used (placed in any position). Each of the rotors essentially implement a simple monoalphabetic substitution cipher, determined by the position of the rotor. In terms of their functionality, the rotors functioned in a cascaded manner, implementing a series of monoalphabetic substitutions as per their relative alignments.\n",
    "\n",
    "3. **Reflector:** The reflector is the last core component of the Enigma, that is responsible for the symmetric Encryption and Decryption of a letter, given the same key. It ensures that the path of each letter through the entire machine is mapped uniquely to the path of one other letter, forming 13 unique pairings.\n",
    "\n",
    "The following figure illustrates the functionality of each component in the encryption (or decryption) of a letter using the Enigma Machine. It can be observed from the above figure that the $Enigma(x_i)$ function described earlier can be broken down in the following (informal) manner to understand the path of a single letter through the machine.\n",
    "\n",
    "$$Enigma(x_i) = [Plugboard \\rightarrow Rotor1 \\rightarrow Rotor2 \\rightarrow Rotor3 \\rightarrow Reflector \n",
    "\\rightarrow Rotor3 \\rightarrow Rotor2 \\rightarrow Rotor1 \\rightarrow Plugboard]$$\n",
    "\n",
    "It is important to note that every letter of the input text is encrypted by a different set of monoalphabetic substitutions specified by the rotating rotors of the Enigma. This makes the Enigma a very strong cipher (if used appropriately) with a massive key space of $\\approx 10^{16}$\n",
    "\n",
    "![alt text](EnigmaWiring.png \"Wiring Diagram of the Enigma\")\n",
    "<h4><center> **Wiring Schematic of Enigma Machine** (Source: http://enigma.louisedade.co.uk/howitworks.html)</center></h4>\n",
    "\n",
    "\n",
    "#### Building Components\n",
    "For the implementation of the Enigma, the following core methods and classes were written in Python, to specify the structure and functionality of the various components of the Enigma:\n",
    "\n",
    "1. *genDictionary()* - This method was used to create an easy dictionary of the letters of the alphabet so as to access the index of a character in English efficiently in O(1) time. Note that the convention (a = 0, .., z = 25) was used.\n",
    "\n",
    "2. *Plugboard* - This class implements the Enigma's plugboard and enables the creation of a Plugboard object that can be reprogrammed with different pairs of letter swaps. It is initialized without any swaps at first, and then takes a 2D list of to-be-swapped characters as an input and implements the swaps within its structure. The plugboard class also implements functions to both forward and reverse swap letters.\n",
    "\n",
    "3. *Reflector* - This class specifies the structure of the Reflector in the Enigma. It sets an array of letters that describe the reflector and implements the reflection function.\n",
    "\n",
    "4. *Rotor* - This class defined the attributes and functionality of a single rotor in the Enigma. It specifies the sequence of letters (as an array) that describe the monoalphabetic permutation of the rotor. Variables to keep track of the position of the rotor were implemented as well as function rotate it, using modulo 26 math. It also implements functions to forward and reverse substitute letters.\n",
    "\n",
    "5. *RotorSet* - This class specifies the structure of the set of objects comprising of 3 *Rotors* and the *Reflector*. It enables the assignment (and reassignment) of rotors to the *RotorSet* object and enables the repositioning of these rotors. A function to encrypt and decrypt text using a combination of the rotors and reflector was implemented. A rotateFlag boolean was used to control the odometer-like gear functionality of the rotors, so as to spin correctly after each letter is processed. Note that it inherits properties from the *Rotor* and *Reflector* classes\n",
    "\n",
    "6. *Enigma* - This class specifies the structure of the Enigma machine and implements the *RotorSet* and *Plugboard* objects within one larger *Enigma* object. It allows for the setting of a key to make it reprogrammable. Functions to display current settings of the various components were also implemented to enable easy verification and testing. The main text processing functionality of the Enigma was implemented within this class, to process an input string as per the Enigma Cipher and return an output string.\n",
    "\n",
    "#### Specifying the Key\n",
    "The key for the Enigma Machine implementation used the following format to specify a unique key configuration.\n",
    "\n",
    "$$Key \\approx (rotors, rotorPos, ReflectorNum, PlugboardSwaps)$$\n",
    "\n",
    "-  In the above list of paramters, *rotors* is a list with 3 numbers and refers to the indices of the list of available rotors stored in a separate array Enigma_Rotors. Note that the convention used for this project was that Rotor1 is the fastest spinning rotor and is the one nearest to the Plugboard.\n",
    "-  *rotorPos* is a list with 3 numbers specifying the starting positions of the 3 rotors in the Enigma. Based on the specified positions, the rotors are rotated to the correct starting position\n",
    "-  *ReflectorNum* refers to the index of the list of available reflector stored in a separate array Enigma_Reflectors. \n",
    "-  *PlugboardSwaps* is a list of pairs of characters that shall be swapped by the plugboard.\n",
    "\n",
    "#### Encryption and Decryption\n",
    "Encryption and Decryption follow the exact same procedure on the Enigma Machine. For a particular character, $x_i$ in a string, the fundamental property, $Dec[Enc(x_i)] = x_i$ only holds when both the Encryption and Decryption key is the same for the Enigma. Thus it is crucial to ensure that initial key settings for the Enigma are exactly the same when encrypting and decyrpting text.\n",
    "\n",
    "#### Conclusion\n",
    "A working Python implementation of the Enigma Machine was successfully achieved. Several test runs were conducted to encrypt and decrypt strings of text, using a variety of initial key settings, and were checked to be correct.\n",
    "All commented code is attached. "
   ]
  },
  {
   "cell_type": "code",
   "execution_count": 1,
   "metadata": {},
   "outputs": [
    {
     "name": "stdout",
     "output_type": "stream",
     "text": [
      "Generated Letter Dictionary!\n"
     ]
    }
   ],
   "source": [
    "#Karan Vombatkere\n",
    "#German Enigma Machine\n",
    "#October 2017\n",
    "\n",
    "from string import *\n",
    "import numpy as np\n",
    "\n",
    "Letters = \"ABCDEFGHIJKLMNOPQRSTUVWXYZ\" \n",
    "\n",
    "#function to create a dictionary with letters and their indices\n",
    "#Use this to return the index of a letter (a = 0, .., z = 25)\n",
    "def genDictionary():\n",
    "    letter_index_pairs = []\n",
    "    for indx, char in enumerate(Letters):\n",
    "        letter_index_pairs.append([char, indx])\n",
    "\n",
    "    Indx_Dict = dict(letter_index_pairs)\n",
    "    print(\"Generated Letter Dictionary!\")\n",
    "    return Indx_Dict\n",
    "\n",
    "#Call the function to create a global dictionary\n",
    "Char_Indices = genDictionary()\n",
    "\n",
    "#Function to check if a character exists in a string/array\n",
    "def checkMatch(str1, char1):\n",
    "    for i in range(len(str1)):\n",
    "        if(str1[i] == char1):\n",
    "            return True\n",
    "          \n",
    "    return False\n",
    "\n",
    "#Function to return the index of a letter (a = 0, .., z = 25)\n",
    "#StringA would be Letters when calling this function\n",
    "def getIndex(char, stringA):\n",
    "    for i in range(len(stringA)):\n",
    "        if (char == stringA[i]):\n",
    "            return i\n",
    "        \n",
    "    return None"
   ]
  },
  {
   "cell_type": "code",
   "execution_count": 2,
   "metadata": {
    "collapsed": true
   },
   "outputs": [],
   "source": [
    "#Enigma Wiring Details of Rotors and Reflectors\n",
    "\n",
    "#Enigma Rotor Configurations\n",
    "Rotor1 = ['E','K','M','F','L','G','D','Q','V','Z','N','T','O','W','Y','H','X','U','S','P','A','I','B','R','C','J'] \n",
    "Rotor2 = ['A','J','D','K','S','I','R','U','X','B','L','H','W','T','M','C','Q','G','Z','N','P','Y','F','V','O','E'] \n",
    "Rotor3 = ['B','D','F','H','J','L','C','P','R','T','X','V','Z','N','Y','E','I','W','G','A','K','M','U','S','Q','O'] \n",
    "Rotor4 = ['E','S','O','V','P','Z','J','A','Y','Q','U','I','R','H','X','L','N','F','T','G','K','D','C','M','W','B'] \n",
    "Rotor5 = ['V','Z','B','R','G','I','T','Y','U','P','S','D','N','H','L','X','A','W','M','J','Q','O','F','E','C','K']\n",
    "Rotor6 = ['J','P','G','V','O','U','M','F','Y','Q','B','E','N','H','Z','R','D','K','A','S','X','L','I','C','T','W'] \n",
    "Rotor7 = ['N','Z','J','H','G','R','C','X','M','Y','S','W','B','O','U','F','A','I','V','L','P','E','K','Q','D','T'] \n",
    "Rotor8 = ['F','K','Q','H','T','L','X','O','C','B','J','S','P','D','Z','R','A','M','E','W','N','I','U','Y','G','V'] \n",
    "\n",
    "#Set of All Rotors\n",
    "Enigma_Rotors = [Rotor1, Rotor2, Rotor3, Rotor4, Rotor5, Rotor6, Rotor7, Rotor8]\n",
    "\n",
    "\n",
    "#Enigma Reflectors\n",
    "Refl_B = ['Y','R','U','H','Q','S','L','D','P','X','N','G','O','K','M','I','E','B','F','Z','C','W','V','J','A','T'] \n",
    "Refl_C = ['F','V','P','J','I','A','O','Y','E','D','R','Z','X','W','G','C','T','K','U','Q','S','B','N','M','H','L'] \n",
    "\n",
    "Enigma_Reflectors = [Refl_B, Refl_C]\n"
   ]
  },
  {
   "cell_type": "code",
   "execution_count": 3,
   "metadata": {
    "collapsed": true
   },
   "outputs": [],
   "source": [
    "#Class to implement Plugboard\n",
    "#Plugboard takes a string input (spaces, special characters removed) and Returns a list after swapping characters\n",
    "#Implements both forward and reverse swaps of characters\n",
    "class Plugboard:\n",
    "    'Class to implement plugboard for the German Enigma Machine'\n",
    "    Letters = ['A','B','C','D','E','F','G','H','I','J','K','L','M','N','O','P','Q','R','S','T','U','V','W','X','Y','Z']\n",
    "    initConfig = Letters\n",
    "\n",
    "    #Initialize Plugboard with a particular configuration\n",
    "    def __init__(self):\n",
    "        self.configList = list(Plugboard.initConfig)\n",
    "        #print(\"Plugboard Initialized (No Letters Swapped) - Please Set Key: \\n\", self.configList)\n",
    "        \n",
    "    #function to swap a pair of characters in a list\n",
    "    #indx_list is a list with two values\n",
    "    def swapPair(self, indx_list, List1):\n",
    "        a = indx_list[0]\n",
    "        b = indx_list[1]\n",
    "        \n",
    "        tmp = List1[a]\n",
    "        List1[a] = List1[b]\n",
    "        List1[b] = tmp\n",
    "        return List1\n",
    "\n",
    "    #set the plugboard key\n",
    "    #function to swap all the characters specified by a 2D list defining the swaps\n",
    "    def swapChars(self, indx_2Dlist):\n",
    "        for i, chars in enumerate(indx_2Dlist): #chars is a tuple with 2 letters\n",
    "            indx1 = Char_Indices[chars[0]]\n",
    "            indx2 = Char_Indices[chars[1]]\n",
    "            self.swapPair([indx1, indx2], self.configList)\n",
    "            #print(\"Plugboard characters\", chars[0], \"and\", chars[1], \"were successfully swapped\")\n",
    "            \n",
    "        return self.configList\n",
    "    \n",
    "    \n",
    "    #function to set the plugboard key\n",
    "    def setPBKey(self, swapList): \n",
    "        self.configList = list(Plugboard.initConfig) #reset plugboard before implementing swapping sequence\n",
    "        self.swapChars(swapList)       \n",
    "        #self.displayPB() #Display the current key setting\n",
    "        \n",
    "    #function to display the plugboard settings\n",
    "    def displayPB(self):\n",
    "        print(\"Displaying Current Plugboard Configuration with letter swaps:\", self.configList)\n",
    "        \n",
    "    #Takes a string/list input of characters to be swapped\n",
    "    #Returns an array as the output\n",
    "    def outputSwapped(self, charsX):\n",
    "        PBswapped_chars = []\n",
    "        for i, char in enumerate(charsX):\n",
    "            orig_indx = Char_Indices[char]\n",
    "            PBswapped_chars.append(self.configList[orig_indx])\n",
    "        \n",
    "        #print(\"Message Output after plugboard swaps: \", PBswapped_chars)\n",
    "        return PBswapped_chars\n",
    "    \n",
    "    def reverseSwapped(self, charsX):\n",
    "        PBreverseSwapped = \"\"\n",
    "        for i, char in enumerate(charsX):\n",
    "            pb_indx = getIndex(char, self.configList)\n",
    "            PBreverseSwapped += Letters[pb_indx]\n",
    "        \n",
    "        #print(\"Output after plugboard Reverse swaps: \", PBreverseSwapped)\n",
    "        return PBreverseSwapped"
   ]
  },
  {
   "cell_type": "code",
   "execution_count": 4,
   "metadata": {
    "collapsed": true
   },
   "outputs": [],
   "source": [
    "#Class to Implement Reflector\n",
    "class Reflector:\n",
    "    'Reflector implementation for Enigma Machine'\n",
    "    #Takes a number useReflector as an input, which corresponds to the reflector index in Enigma_Reflectors\n",
    "    def __init__(self, useReflector):\n",
    "        self.Refl = list(Enigma_Reflectors[useReflector])\n",
    "        #print(\"Reflector Successfully selected:\", self.Refl)\n",
    "\n",
    "    #function to display the reflector\n",
    "    def displayReflector(self):\n",
    "        print(\"Reflector selected:\", self.Refl)\n",
    "        \n",
    "    #function to output the reflected letter as per the Reflector\n",
    "    def outputReflected(self, charX):\n",
    "        X_index = Char_Indices[charX]\n",
    "        reflectedChar = self.Refl[X_index]\n",
    "        \n",
    "        return reflectedChar"
   ]
  },
  {
   "cell_type": "code",
   "execution_count": 5,
   "metadata": {
    "collapsed": true
   },
   "outputs": [],
   "source": [
    "#Class to implement Rotors\n",
    "#Rotor is Initialized with a list of letters as given and can rotate the pointer to keep track of the position\n",
    "class Rotor:\n",
    "    'Implement a Rotor for the Enigma Machine'\n",
    "    rotorPos = 0\n",
    "    def __init__(self, rotorPermutation, pos):\n",
    "        self.rotorPermutation = list(rotorPermutation)\n",
    "        self.rotatebyN(pos)\n",
    "        self.rotorPos = pos\n",
    "        self.origPos = 0\n",
    "        self.rotateFlag = False #All rotors are configured to NOT rotate initially\n",
    "        #print(\"Rotor Configuration:\\n\", self.rotorPermutation)\n",
    "\n",
    "    #Function to rotate the rotor by a specified initial rotation, n\n",
    "    def rotatebyN(self, n):\n",
    "        for i in range(n):\n",
    "            self.rotate()\n",
    "        \n",
    "    #Function to rotate the rotor once\n",
    "    def rotate(self):\n",
    "        self.rotorPos += 1 #keep track of positions\n",
    "        self.rotorPos = self.rotorPos % 26\n",
    "        \n",
    "        #shift all elements in rotorPermutation one space to the right\n",
    "        rotatedRotor = []\n",
    "        for i in range(len(self.rotorPermutation)):\n",
    "            rotatedRotor.append(self.rotorPermutation[(i-1)%26])\n",
    "        \n",
    "        #increment each character by 1\n",
    "        self.rotorPermutation = [Letters[((Char_Indices[ch]) +1)%26] for indx, ch in enumerate(list(rotatedRotor))]\n",
    "        #print(self.rotorPermutation)\n",
    "        \n",
    "    #display the Details of the rotor and its current location\n",
    "    def displayRotor(self):\n",
    "        print(\"Rotor Configuration:\", self.rotorPermutation)\n",
    "        print(\"Rotor Position:\", self.rotorPos, \"\\nRotor Original Position:\", self.origPos)\n",
    "        \n",
    "    #take a character as input and return its rotated ciphertext character\n",
    "    #rotate rotor after encrypting automatically\n",
    "    def outputRotated(self, charX):            \n",
    "        #Rotate the rotor if the flag is set to true\n",
    "        if(self.rotateFlag):\n",
    "            self.rotate()\n",
    "            \n",
    "        X_index = Char_Indices[charX]\n",
    "        rotatedChar = self.rotorPermutation[X_index]\n",
    "            \n",
    "        return rotatedChar\n",
    "    \n",
    "    def outputRotatedRev(self, charX):\n",
    "        X_index = getIndex(charX, self.rotorPermutation)\n",
    "        rotatedCharRev = Letters[X_index]\n",
    "                        \n",
    "        return rotatedCharRev"
   ]
  },
  {
   "cell_type": "code",
   "execution_count": 6,
   "metadata": {
    "collapsed": true
   },
   "outputs": [],
   "source": [
    "#Class to Implement a Set of Rotors along with the reflector\n",
    "#Customized to build a 3-Rotor Set and Fastest moving rotor is closest to Plugboard\n",
    "#Both the parameters in the init uniquely identify the rotor element of the key\n",
    "\n",
    "class RotorSet(Rotor, Reflector):\n",
    "    'Implements a Rotor Set for a 3-Rotor Enigma Machine'\n",
    "    #useRotors is a list that has the index of the rotor to be used from Enigma_Rotors \n",
    "    #(Rotor1 = 0, Rotor2 = 1, ..., Rotor8 = 7)\n",
    "    #rotorPositions is list with the initial position of the rotors being used\n",
    "    #both the above lists are in order of closest to plugboard to furthest in terms of their rotor set position\n",
    "    \n",
    "    def __init__(self, useRotors, rotorPositions, reflectNum): #Instantiates the rotor set\n",
    "        self.R1 = Rotor(Enigma_Rotors[useRotors[0]], rotorPositions[0]) #Rotor R1 to be placed nearest the plugboard\n",
    "        self.R2 = Rotor(Enigma_Rotors[useRotors[1]], rotorPositions[1])\n",
    "        self.R3 = Rotor(Enigma_Rotors[useRotors[2]], rotorPositions[2])\n",
    "        \n",
    "        #Instantiate correct reflector\n",
    "        self.Reflector1 = Reflector(reflectNum)\n",
    "        \n",
    "        print(\"\\nInitialized Enigma 3-Rotor Set with Plugboard Successfully\")\n",
    "        #self.R1.displayRotor()\n",
    "        #self.R2.displayRotor()\n",
    "        #self.R3.displayRotor()\n",
    "        print(\"-------------------------------------------------------------------------------------------------------\")\n",
    "\n",
    "        \n",
    "    #funtion to display the state of the rotor positions\n",
    "    def displayRotorState(self):\n",
    "        print(\"Current RotorState:\", self.R1.rotorPos, self.R2.rotorPos, self.R3.rotorPos)\n",
    "    \n",
    "    #Encrypt text as per the rotor settings and spin rotors as per the gearing\n",
    "    #Each rotor takes the output of the previous rotor as its input\n",
    "    #The reflector and backward path has also been accomodated\n",
    "    def encryptText(self, textArray):\n",
    "        rotorSet_out = []\n",
    "        #Only set rotate flag for R1=True since it must rotate every turn\n",
    "        self.R1.rotateFlag = True\n",
    "        #Traverse the array with characters once\n",
    "        for indx, letter in enumerate(textArray):\n",
    "            \n",
    "            #self.displayRotorState() #Check Rotorstate\n",
    "            #R1 always encrypts the letter and rotates\n",
    "            R1out = self.R1.outputRotated(letter)\n",
    "            \n",
    "            '''\n",
    "            #Test just one rotor + reflector\n",
    "            refOut = self.Reflector1.outputReflected(R1out)\n",
    "            \n",
    "            R1outrev = self.R1.outputRotatedRev(refOut)\n",
    "            \n",
    "            print(\"Letter Path:\", letter, \" ->\", R1out, \" ->\", refOut, \" ->\"\n",
    "                 , R1outrev) \n",
    "            '''            \n",
    "            #R2 is configured to rotate every time R1 completes a cycle, except first index\n",
    "            if(self.R1.rotorPos == ((self.R1.origPos)%26) and indx != 0 ):\n",
    "                self.R2.rotateFlag = True\n",
    "            \n",
    "            R2out = self.R2.outputRotated(R1out)\n",
    "            \n",
    "            #R3 is configured to rotate every time R3 completes a cycle, except first cycle\n",
    "            if(self.R2.rotorPos == ((self.R2.origPos)%26) and self.R2.rotateFlag and indx > 26):\n",
    "                self.R3.rotateFlag = True\n",
    "                \n",
    "            R3out = self.R3.outputRotated(R2out)\n",
    "                \n",
    "            #Pass through reflector\n",
    "            reflectedOut = self.Reflector1.outputReflected(R3out)\n",
    "            \n",
    "            #Pass through R3 again\n",
    "            R3out_rev = self.R3.outputRotatedRev(reflectedOut)\n",
    "            self.R3.rotateFlag = False #Rotate flag must stay false as default\n",
    "\n",
    "            #Pass through R2 again\n",
    "            R2out_rev = self.R2.outputRotatedRev(R3out_rev)\n",
    "            self.R2.rotateFlag = False #Rotate flag must be set to false as default\n",
    "            \n",
    "            R1out_rev = self.R1.outputRotatedRev(R2out_rev)\n",
    "            \n",
    "            #print path of letter:\n",
    "            #print(\"Letter Path:\", letter, \" ->\", R1out, \" ->\", R2out, \" ->\", R3out, \" ->\", reflectedOut, \" ->\"\n",
    "                 #, R3out_rev, \" ->\", R2out_rev, \" ->\", R1out_rev)\n",
    "            #The character stored in R1out_rev is the final result of rotors + reflector\n",
    "\n",
    "            rotorSet_out.append(R1out_rev)\n",
    "        \n",
    "        \n",
    "        return rotorSet_out\n",
    "    "
   ]
  },
  {
   "cell_type": "code",
   "execution_count": 7,
   "metadata": {
    "collapsed": true
   },
   "outputs": [],
   "source": [
    "#Class for the Enigma machine\n",
    "#Takes a text string as an input and returns the corresponding encrypted/decrypted string\n",
    "class Enigma(RotorSet, Plugboard):\n",
    "    'Implementation of the Enigma Machine using the Plugboard and Rotorset'\n",
    "    #rotors - indices of rotors to be used from Enigma_Rotors\n",
    "    #rotorPos - Initial positions of each of the rotors\n",
    "    #refNum - index of reflector to be used from Enigma_Reflectors\n",
    "    \n",
    "    def __init__(self, rotors, rotorPos, refNum, plugboardSwaps):\n",
    "        print(\"============================Enigma Machine Successfully Initialized======================================\\n\")\n",
    "        self.rSet = RotorSet(rotors, rotorPos, refNum)\n",
    "        self.pBoard = Plugboard()\n",
    "        self.pBoard.setPBKey(plugboardSwaps)\n",
    "        self.rotorList = list(rotors)\n",
    "        self.displayKey() #display the current key\n",
    "        print(\"============================Enigma Machine Successfully Initialized======================================\\n\")\n",
    "    \n",
    "    \n",
    "    #Function to display current settings of Enigma\n",
    "    def displayFullSettings(self):\n",
    "        print(\"==============================Current Settings of Enigma Machine======================================\\n\")\n",
    "        self.rSet.R1.displayRotor()\n",
    "        self.rSet.R2.displayRotor()\n",
    "        self.rSet.R3.displayRotor()\n",
    "        self.rSet.displayRotorState()\n",
    "\n",
    "        self.pBoard.displayPB()\n",
    "        self.rSet.Reflector1.displayReflector()\n",
    "        \n",
    "        \n",
    "    #Function to set the key of the Enigma\n",
    "    def setKey(self, rotors, rotorPos, refNum, plugboardSwaps):\n",
    "        self.rSet = RotorSet(rotors, rotorPos, refNum)\n",
    "        self.rotorList = list(rotors)\n",
    "        \n",
    "        self.pBoard = Plugboard()\n",
    "        self.pBoard.setPBKey(plugboardSwaps)\n",
    "        #self.displayKey() #display settings to verify\n",
    "        \n",
    "    \n",
    "    def displayKey(self):\n",
    "        print(\"-----------------------------------------------------------------------------------------------------------\")\n",
    "        print(\"Displaying Current Key Settings:\")\n",
    "        print(\"Rotors Selected (from nearest to Plugboard):\", self.rotorList)\n",
    "        print(\"Rotor Current Positions (from nearest to Plugboard): |Rotor1 =\", self.rSet.R1.rotorPos, \n",
    "              \"|Rotor2 =\", self.rSet.R2.rotorPos, \"|Rotor3 =\", self.rSet.R3.rotorPos, \"|\")\n",
    "        self.pBoard.displayPB()\n",
    "        self.rSet.Reflector1.displayReflector()\n",
    "        print(\"-----------------------------------------------------------------------------------------------------------\")\n",
    "\n",
    "    \n",
    "    #Run the Enigma on text\n",
    "    def runEnigma(self, textStr):\n",
    "        #first process text, by removing special characters and spaces, etc and capitalizing\n",
    "        charCount = 0\n",
    "        textStr = textStr.upper()\n",
    "        cleanText = ''\n",
    "        for i, char in enumerate(textStr):\n",
    "            if(checkMatch(Letters, char)):\n",
    "                cleanText += char\n",
    "                charCount += 1\n",
    "                \n",
    "        print(\"======================================RUNNING ENIGMA CIPHER================================================\")\n",
    "        print(\"Running Enigma Cipher on following Text Input (Character Count =\",charCount,\"):\\n\", cleanText)\n",
    "                \n",
    "        #Mechanics of the Enigma : Plugboard -> 3 Rotors -> Reflector -> 3 Rotors -> Plugboard\n",
    "        #The 3 Rotors are in order from R1 -> R2 -> R3, where R1 is nearest plugboard and spins the fastest\n",
    "        #Note that the rotors turn once (according to the gears) after each letter is encrypted\n",
    "        \n",
    "        #Send text string through the Plugboard\n",
    "        plugboardOut = self.pBoard.outputSwapped(cleanText) #Takes string input -> Returns array output\n",
    "        \n",
    "        #Process text throgh Rotors and Reflectors \n",
    "        #Rotors turn within execution\n",
    "        rotorsetOut = self.rSet.encryptText(plugboardOut) #Takes array input -> Returns array output\n",
    "        \n",
    "        #Pass the text through the reverse plugboard again\n",
    "        outText = self.pBoard.reverseSwapped(rotorsetOut) #Takes array input -> Returns string output\n",
    "        \n",
    "        print(\"============================================ENIGMA OUTPUT==================================================\")\n",
    "        print(\"Output Text:\\n\", outText)\n",
    "        \n",
    "        return outText    \n",
    "        "
   ]
  },
  {
   "cell_type": "code",
   "execution_count": 8,
   "metadata": {},
   "outputs": [
    {
     "name": "stdout",
     "output_type": "stream",
     "text": [
      "============================Enigma Machine Successfully Initialized======================================\n",
      "\n",
      "\n",
      "Initialized Enigma 3-Rotor Set with Plugboard Successfully\n",
      "-------------------------------------------------------------------------------------------------------\n",
      "-----------------------------------------------------------------------------------------------------------\n",
      "Displaying Current Key Settings:\n",
      "Rotors Selected (from nearest to Plugboard): [0, 1, 2]\n",
      "Rotor Current Positions (from nearest to Plugboard): |Rotor1 = 21 |Rotor2 = 12 |Rotor3 = 3 |\n",
      "Displaying Current Plugboard Configuration with letter swaps: ['A', 'B', 'C', 'D', 'E', 'F', 'G', 'H', 'I', 'J', 'K', 'L', 'M', 'N', 'O', 'P', 'Q', 'R', 'S', 'T', 'U', 'V', 'W', 'X', 'Y', 'Z']\n",
      "Reflector selected: ['Y', 'R', 'U', 'H', 'Q', 'S', 'L', 'D', 'P', 'X', 'N', 'G', 'O', 'K', 'M', 'I', 'E', 'B', 'F', 'Z', 'C', 'W', 'V', 'J', 'A', 'T']\n",
      "-----------------------------------------------------------------------------------------------------------\n",
      "============================Enigma Machine Successfully Initialized======================================\n",
      "\n"
     ]
    }
   ],
   "source": [
    "#Instantiate Enigma Machine \n",
    "#No initial swaps for Plugboard specified\n",
    "\n",
    "E1 = Enigma([0,1,2],[21,12,3],0,[])"
   ]
  },
  {
   "cell_type": "code",
   "execution_count": 9,
   "metadata": {
    "collapsed": true
   },
   "outputs": [],
   "source": [
    "#text to encrypt\n",
    "Text1 = \"What is the potency of guilt? With its inflationary logic, guilt looks, if anything, to have accumulated over time. Although we tend to blame religion for condemning man to life as a sinner, the guilt that may once have attached to specific vices – vices for which religious communities could prescribe appropriate penance– now seems, in a more secular era, to surface in relation to just about anything: food, sex, money, work, unemployment, leisure, health, fitness, politics, family, friends, colleagues, strangers, entertainment, travel, the environment, you name it. As a teacher of critical theory, I know how crucial and revelatory its insights can be. But I’ve occasionally also suspected that our desire for systematic and structural forms of explanation may be fuelled by our anxiety at the prospect of discovering we’re on the wrong side of history.When wielded indelicately, explanatory theories can offer their adherents a foolproof system for knowing exactly what view to hold, with impunity, about pretty much everything – as if one could take out an insurance policy to be sure of always being right. Often, too, that’s as far as such criticism takes you – into a right-thinking that doesn’t necessarily organise itself into right-acting.\"\n",
    "\n",
    "Text2 = \"On this basis, then, it may be possible to think of survivor’s guilt as a special case of the guilt we all bear when, aware or unaware, we’re glad when others, rather than ourselves, suffer. Obviously, that’s not a pleasant feeling, but neither is it a hard one to understand. Still, there remains something deeply uncomfortable about accepting that survivors of the worst atrocities should feel any guilt for their own survival. Instead, shouldn’t we be trying to save the survivor from her (in our view) mistaken feelings of guilt andthus establish, without smirch or quibble, her absolute innocence? This understandable impulse, according to the intellectual historian Ruth Leys, saw the figure of “the survivor” emerge in the period after the second world war, alongside a shift in focus from the victim’s feelings of guilt toward an insistence on the victim’s innocence. This transformation, Leys argues, involved replacing the concept of guilt with its close cousin, shame. The difference is crucial. The victim who feels guilt evidently has an inner life, with intentions and desires – while the victim who feels shame seems to have had it bestowed from outside. The victims of trauma consequently appear to be the objects rather than the subjects of history\"\n"
   ]
  },
  {
   "cell_type": "code",
   "execution_count": 10,
   "metadata": {},
   "outputs": [
    {
     "name": "stdout",
     "output_type": "stream",
     "text": [
      "\n",
      "Initialized Enigma 3-Rotor Set with Plugboard Successfully\n",
      "-------------------------------------------------------------------------------------------------------\n"
     ]
    }
   ],
   "source": [
    "#Set the Specific Key\n",
    "E1.setKey([0,1,2],[21,12,3],0,[['R','E'],['Q','K'],['T','X'],['U','C'],['J','A'],['W','S']])"
   ]
  },
  {
   "cell_type": "code",
   "execution_count": 11,
   "metadata": {},
   "outputs": [
    {
     "name": "stdout",
     "output_type": "stream",
     "text": [
      "======================================RUNNING ENIGMA CIPHER================================================\n",
      "Running Enigma Cipher on following Text Input (Character Count = 1010 ):\n",
      " WHATISTHEPOTENCYOFGUILTWITHITSINFLATIONARYLOGICGUILTLOOKSIFANYTHINGTOHAVEACCUMULATEDOVERTIMEALTHOUGHWETENDTOBLAMERELIGIONFORCONDEMNINGMANTOLIFEASASINNERTHEGUILTTHATMAYONCEHAVEATTACHEDTOSPECIFICVICESVICESFORWHICHRELIGIOUSCOMMUNITIESCOULDPRESCRIBEAPPROPRIATEPENANCENOWSEEMSINAMORESECULARERATOSURFACEINRELATIONTOJUSTABOUTANYTHINGFOODSEXMONEYWORKUNEMPLOYMENTLEISUREHEALTHFITNESSPOLITICSFAMILYFRIENDSCOLLEAGUESSTRANGERSENTERTAINMENTTRAVELTHEENVIRONMENTYOUNAMEITASATEACHEROFCRITICALTHEORYIKNOWHOWCRUCIALANDREVELATORYITSINSIGHTSCANBEBUTIVEOCCASIONALLYALSOSUSPECTEDTHATOURDESIREFORSYSTEMATICANDSTRUCTURALFORMSOFEXPLANATIONMAYBEFUELLEDBYOURANXIETYATTHEPROSPECTOFDISCOVERINGWEREONTHEWRONGSIDEOFHISTORYWHENWIELDEDINDELICATELYEXPLANATORYTHEORIESCANOFFERTHEIRADHERENTSAFOOLPROOFSYSTEMFORKNOWINGEXACTLYWHATVIEWTOHOLDWITHIMPUNITYABOUTPRETTYMUCHEVERYTHINGASIFONECOULDTAKEOUTANINSURANCEPOLICYTOBESUREOFALWAYSBEINGRIGHTOFTENTOOTHATSASFARASSUCHCRITICISMTAKESYOUINTOARIGHTTHINKINGTHATDOESNTNECESSARILYORGANISEITSELFINTORIGHTACTING\n",
      "============================================ENIGMA OUTPUT==================================================\n",
      "Output Text:\n",
      " NKXMALCIGWIAIFZHVYLOWSDMAWLDQVSYIKYUFJSQBUFMITXMLLSSYNRLXQTSXMQCCLVNIEUMMHZLAJWNSGNKEWIPFQZKURCVIOINKKVRGPNTFYRFDPSSPASPMJILMIJKGQKGUFHETJKCQHMCMIKDWVAVWUNDWCBOQRDQHNXVQUPJBDHHUHMNZJAGIVSUIFARKEBKZGOYKHUACXGMOHQHISTKTXJFDQPQQZSSPTCTKQEFSDXCMQLIPMNLTZECPWHZGRHNGXGBKVUVQWVZGJWFBOFCXHNLZSUISFAOAVELOTAERMMDOGTVUSKAJEKCPSHPEEQGCEYKTUJBTIVXTCMIBNDHRKEPVMHOBICYSFZWJNXIPRSXCYKYDOJUCCWJJEEQKWQTWIJPXCUAXDJFQJLGJRHEMUIXFFQFOPQAHKQHHFMRJBIIKJUDBCYJEMUXRMSDTIRILHRVWPZELYMFBJEKSFLEYIWRUAIWIRXOZTOUPTSJYKOYRJIQLHHCKQYSBIYHPTWXUVEQXTXZWPQAIPTVBWGROMBIKBPSHOXMEEUSWXAITCAYYASIZFHFZFHAABFLVQQNNUICYPEYEIFROIPQEEYFWSLBDCESLKNFXKSLZIKHTJUOLNDLXJINPTUYPZOZQGDCAKVOBWNGNBLGQBIMOWVRMSQLMXDBZCNNAWAGROLPQRKZYOUOLOPCWTPUYJOLCGIBYSBMVWRVQVHFNUTZOMLXNKJRXUCYRJOLLENPUQIGXUHKFCBIMXFSUGCZZFVESZJQHQNXAIXFOGWKSXKTTSSBEYHRJHRFDUZOQMVYKCUKJRYVYGDXBDYFPZHZOUBWYZUNQTNLNPXVDWWEBGTVFZLFPJIALRYZDZXRFYKVQAPNSUMETBXNWUGADEBKSYTATUUWSHZWVGMRBFGJZKYCLJDFDXLKJPWAFANLVQPYIUGLQSUXLXMMBYOJDEFRSAGFIUULBRXTHSKWQULVHPDUETYUHOXXRYKCAYKZTILXXTIQBWQGEE\n"
     ]
    }
   ],
   "source": [
    "#Encrypt Message\n",
    "cipher1 = E1.runEnigma(Text1)"
   ]
  },
  {
   "cell_type": "code",
   "execution_count": 12,
   "metadata": {
    "scrolled": false
   },
   "outputs": [
    {
     "name": "stdout",
     "output_type": "stream",
     "text": [
      "\n",
      "Initialized Enigma 3-Rotor Set with Plugboard Successfully\n",
      "-------------------------------------------------------------------------------------------------------\n",
      "======================================RUNNING ENIGMA CIPHER================================================\n",
      "Running Enigma Cipher on following Text Input (Character Count = 1010 ):\n",
      " NKXMALCIGWIAIFZHVYLOWSDMAWLDQVSYIKYUFJSQBUFMITXMLLSSYNRLXQTSXMQCCLVNIEUMMHZLAJWNSGNKEWIPFQZKURCVIOINKKVRGPNTFYRFDPSSPASPMJILMIJKGQKGUFHETJKCQHMCMIKDWVAVWUNDWCBOQRDQHNXVQUPJBDHHUHMNZJAGIVSUIFARKEBKZGOYKHUACXGMOHQHISTKTXJFDQPQQZSSPTCTKQEFSDXCMQLIPMNLTZECPWHZGRHNGXGBKVUVQWVZGJWFBOFCXHNLZSUISFAOAVELOTAERMMDOGTVUSKAJEKCPSHPEEQGCEYKTUJBTIVXTCMIBNDHRKEPVMHOBICYSFZWJNXIPRSXCYKYDOJUCCWJJEEQKWQTWIJPXCUAXDJFQJLGJRHEMUIXFFQFOPQAHKQHHFMRJBIIKJUDBCYJEMUXRMSDTIRILHRVWPZELYMFBJEKSFLEYIWRUAIWIRXOZTOUPTSJYKOYRJIQLHHCKQYSBIYHPTWXUVEQXTXZWPQAIPTVBWGROMBIKBPSHOXMEEUSWXAITCAYYASIZFHFZFHAABFLVQQNNUICYPEYEIFROIPQEEYFWSLBDCESLKNFXKSLZIKHTJUOLNDLXJINPTUYPZOZQGDCAKVOBWNGNBLGQBIMOWVRMSQLMXDBZCNNAWAGROLPQRKZYOUOLOPCWTPUYJOLCGIBYSBMVWRVQVHFNUTZOMLXNKJRXUCYRJOLLENPUQIGXUHKFCBIMXFSUGCZZFVESZJQHQNXAIXFOGWKSXKTTSSBEYHRJHRFDUZOQMVYKCUKJRYVYGDXBDYFPZHZOUBWYZUNQTNLNPXVDWWEBGTVFZLFPJIALRYZDZXRFYKVQAPNSUMETBXNWUGADEBKSYTATUUWSHZWVGMRBFGJZKYCLJDFDXLKJPWAFANLVQPYIUGLQSUXLXMMBYOJDEFRSAGFIUULBRXTHSKWQULVHPDUETYUHOXXRYKCAYKZTILXXTIQBWQGEE\n",
      "============================================ENIGMA OUTPUT==================================================\n",
      "Output Text:\n",
      " WHATISTHEPOTENCYOFGUILTWITHITSINFLATIONARYLOGICGUILTLOOKSIFANYTHINGTOHAVEACCUMULATEDOVERTIMEALTHOUGHWETENDTOBLAMERELIGIONFORCONDEMNINGMANTOLIFEASASINNERTHEGUILTTHATMAYONCEHAVEATTACHEDTOSPECIFICVICESVICESFORWHICHRELIGIOUSCOMMUNITIESCOULDPRESCRIBEAPPROPRIATEPENANCENOWSEEMSINAMORESECULARERATOSURFACEINRELATIONTOJUSTABOUTANYTHINGFOODSEXMONEYWORKUNEMPLOYMENTLEISUREHEALTHFITNESSPOLITICSFAMILYFRIENDSCOLLEAGUESSTRANGERSENTERTAINMENTTRAVELTHEENVIRONMENTYOUNAMEITASATEACHEROFCRITICALTHEORYIKNOWHOWCRUCIALANDREVELATORYITSINSIGHTSCANBEBUTIVEOCCASIONALLYALSOSUSPECTEDTHATOURDESIREFORSYSTEMATICANDSTRUCTURALFORMSOFEXPLANATIONMAYBEFUELLEDBYOURANXIETYATTHEPROSPECTOFDISCOVERINGWEREONTHEWRONGSIDEOFHISTORYWHENWIELDEDINDELICATELYEXPLANATORYTHEORIESCANOFFERTHEIRADHERENTSAFOOLPROOFSYSTEMFORKNOWINGEXACTLYWHATVIEWTOHOLDWITHIMPUNITYABOUTPRETTYMUCHEVERYTHINGASIFONECOULDTAKEOUTANINSURANCEPOLICYTOBESUREOFALWAYSBEINGRIGHTOFTENTOOTHATSASFARASSUCHCRITICISMTAKESYOUINTOARIGHTTHINKINGTHATDOESNTNECESSARILYORGANISEITSELFINTORIGHTACTING\n"
     ]
    }
   ],
   "source": [
    "#Rest the Key for Decryption\n",
    "E1.setKey([0,1,2],[21,12,3],0,[['R','E'],['Q','K'],['T','X'],['U','C'],['J','A'],['W','S']])\n",
    "#Decrpyt the Cipher Text\n",
    "TextDecrypt = E1.runEnigma(cipher1)"
   ]
  },
  {
   "cell_type": "code",
   "execution_count": 13,
   "metadata": {},
   "outputs": [
    {
     "name": "stdout",
     "output_type": "stream",
     "text": [
      "\n",
      "Initialized Enigma 3-Rotor Set with Plugboard Successfully\n",
      "-------------------------------------------------------------------------------------------------------\n",
      "======================================RUNNING ENIGMA CIPHER================================================\n",
      "Running Enigma Cipher on following Text Input (Character Count = 1022 ):\n",
      " ONTHISBASISTHENITMAYBEPOSSIBLETOTHINKOFSURVIVORSGUILTASASPECIALCASEOFTHEGUILTWEALLBEARWHENAWAREORUNAWAREWEREGLADWHENOTHERSRATHERTHANOURSELVESSUFFEROBVIOUSLYTHATSNOTAPLEASANTFEELINGBUTNEITHERISITAHARDONETOUNDERSTANDSTILLTHEREREMAINSSOMETHINGDEEPLYUNCOMFORTABLEABOUTACCEPTINGTHATSURVIVORSOFTHEWORSTATROCITIESSHOULDFEELANYGUILTFORTHEIROWNSURVIVALINSTEADSHOULDNTWEBETRYINGTOSAVETHESURVIVORFROMHERINOURVIEWMISTAKENFEELINGSOFGUILTANDTHUSESTABLISHWITHOUTSMIRCHORQUIBBLEHERABSOLUTEINNOCENCETHISUNDERSTANDABLEIMPULSEACCORDINGTOTHEINTELLECTUALHISTORIANRUTHLEYSSAWTHEFIGUREOFTHESURVIVOREMERGEINTHEPERIODAFTERTHESECONDWORLDWARALONGSIDEASHIFTINFOCUSFROMTHEVICTIMSFEELINGSOFGUILTTOWARDANINSISTENCEONTHEVICTIMSINNOCENCETHISTRANSFORMATIONLEYSARGUESINVOLVEDREPLACINGTHECONCEPTOFGUILTWITHITSCLOSECOUSINSHAMETHEDIFFERENCEISCRUCIALTHEVICTIMWHOFEELSGUILTEVIDENTLYHASANINNERLIFEWITHINTENTIONSANDDESIRESWHILETHEVICTIMWHOFEELSSHAMESEEMSTOHAVEHADITBESTOWEDFROMOUTSIDETHEVICTIMSOFTRAUMACONSEQUENTLYAPPEARTOBETHEOBJECTSRATHERTHANTHESUBJECTSOFHISTORY\n",
      "============================================ENIGMA OUTPUT==================================================\n",
      "Output Text:\n",
      " CPOZAMNIMQGNGLYUQISAZRYYGAZLYQVLBXXKWTOHTKGFQCDGYPDCFSDCCLUZLFIJPPGKKAOKYSTMDEQIWWKHXUNPZEVJKJOYSJLDXETCQXSNDKTGUUHZVFWDVYBBOIQXULDEEAQIYYYYWOCMYSHXXHBEQHCRKXNVKJJVSQIVDQQBQWSACRZRAWCRHZWCXWNMOWHAOTKFWXXTSDVZFZLNQXOLXEUCKJNKVVKXOEAZRQCRSOVKNPQWIOTCEABLQHJSWTCMCXFXMSEZGXEFZNRGXKYKCPILBWUDAMTSCWXQMGOQYGBWWLPCIYMACMWVGEVIRKIFPICUWIPHMRWRHUSTSUGYFQZVDYCAEDTRCNZVFQIXJPZNATCESJRLCGJBYBPNGONDPUSYFDMYSXSIDIMWDYVGFRCRIFWWUJZAYFPCKEGNQOBFCGOACQWKBYXIBGGKBKVHFWVHFTXCCQOMCLEBMILSFSRZGGOSZLIUDBAQGOECZZUGTLCYUJFSVRLNNKAXXBQXMRIOOWZEIDDSTAJGZMVDWGZTMEFROWBLEJYPMCDRUPHNYPDCLNLGXGIEZTQZUQGFNBUWFKCYVYWPZUENCNTFAJLMIHVGWYNUIQOPNTTQVMKCFFRVPSBCMXDUONJVSFAPOYXEEEHYBWNQZJMXZSKKWFEJWFQUSPHNWCQTVBURPNCMHCZIZSDTCRKXHXGCOIHCZZHEHBAWFBUQGCQYSVHFSBJPUGIVULWJPPVBWRKFXMVBHYQLXDBLCEJPOILARAKIKIVTKVRSSOPZZEXGNAIDEALNWLLCIOATGCAPLRPHBQFSIIUAGOYNKCGBHKYHYZOACCBZRNXSTSYGWSTKDMZPZGLOCWBXAXWWSIKZVUIQZGPOHTTDGSRNIXZRFZBGVTYDVVCEBBMWTKOHBMRNNZFLOANNBWHXNXJHJQZILRZURVNVQIUFNDXAQXVMZRJIYECCIMYHBGRQHYBQIDEKIWQSAADSXIFNYIFZTBGXLGVCHJBNCTSGFZOLGCIUFH\n"
     ]
    }
   ],
   "source": [
    "#Set a different Key for different Message\n",
    "E1.setKey([1,2,0],[3,8,17],0,[['P','E'],['C','K'],['T','X'],['U','F'],['R','L'],['Y','H']])\n",
    "#Encrypt Message\n",
    "cipher2 = E1.runEnigma(Text2)"
   ]
  },
  {
   "cell_type": "code",
   "execution_count": 14,
   "metadata": {},
   "outputs": [
    {
     "name": "stdout",
     "output_type": "stream",
     "text": [
      "\n",
      "Initialized Enigma 3-Rotor Set with Plugboard Successfully\n",
      "-------------------------------------------------------------------------------------------------------\n",
      "======================================RUNNING ENIGMA CIPHER================================================\n",
      "Running Enigma Cipher on following Text Input (Character Count = 1022 ):\n",
      " CPOZAMNIMQGNGLYUQISAZRYYGAZLYQVLBXXKWTOHTKGFQCDGYPDCFSDCCLUZLFIJPPGKKAOKYSTMDEQIWWKHXUNPZEVJKJOYSJLDXETCQXSNDKTGUUHZVFWDVYBBOIQXULDEEAQIYYYYWOCMYSHXXHBEQHCRKXNVKJJVSQIVDQQBQWSACRZRAWCRHZWCXWNMOWHAOTKFWXXTSDVZFZLNQXOLXEUCKJNKVVKXOEAZRQCRSOVKNPQWIOTCEABLQHJSWTCMCXFXMSEZGXEFZNRGXKYKCPILBWUDAMTSCWXQMGOQYGBWWLPCIYMACMWVGEVIRKIFPICUWIPHMRWRHUSTSUGYFQZVDYCAEDTRCNZVFQIXJPZNATCESJRLCGJBYBPNGONDPUSYFDMYSXSIDIMWDYVGFRCRIFWWUJZAYFPCKEGNQOBFCGOACQWKBYXIBGGKBKVHFWVHFTXCCQOMCLEBMILSFSRZGGOSZLIUDBAQGOECZZUGTLCYUJFSVRLNNKAXXBQXMRIOOWZEIDDSTAJGZMVDWGZTMEFROWBLEJYPMCDRUPHNYPDCLNLGXGIEZTQZUQGFNBUWFKCYVYWPZUENCNTFAJLMIHVGWYNUIQOPNTTQVMKCFFRVPSBCMXDUONJVSFAPOYXEEEHYBWNQZJMXZSKKWFEJWFQUSPHNWCQTVBURPNCMHCZIZSDTCRKXHXGCOIHCZZHEHBAWFBUQGCQYSVHFSBJPUGIVULWJPPVBWRKFXMVBHYQLXDBLCEJPOILARAKIKIVTKVRSSOPZZEXGNAIDEALNWLLCIOATGCAPLRPHBQFSIIUAGOYNKCGBHKYHYZOACCBZRNXSTSYGWSTKDMZPZGLOCWBXAXWWSIKZVUIQZGPOHTTDGSRNIXZRFZBGVTYDVVCEBBMWTKOHBMRNNZFLOANNBWHXNXJHJQZILRZURVNVQIUFNDXAQXVMZRJIYECCIMYHBGRQHYBQIDEKIWQSAADSXIFNYIFZTBGXLGVCHJBNCTSGFZOLGCIUFH\n",
      "============================================ENIGMA OUTPUT==================================================\n",
      "Output Text:\n",
      " ONTHISBASISTHENITMAYBEPOSSIBLETOTHINKOFSURVIVORSGUILTASASPECIALCASEOFTHEGUILTWEALLBEARWHENAWAREORUNAWAREWEREGLADWHENOTHERSRATHERTHANOURSELVESSUFFEROBVIOUSLYTHATSNOTAPLEASANTFEELINGBUTNEITHERISITAHARDONETOUNDERSTANDSTILLTHEREREMAINSSOMETHINGDEEPLYUNCOMFORTABLEABOUTACCEPTINGTHATSURVIVORSOFTHEWORSTATROCITIESSHOULDFEELANYGUILTFORTHEIROWNSURVIVALINSTEADSHOULDNTWEBETRYINGTOSAVETHESURVIVORFROMHERINOURVIEWMISTAKENFEELINGSOFGUILTANDTHUSESTABLISHWITHOUTSMIRCHORQUIBBLEHERABSOLUTEINNOCENCETHISUNDERSTANDABLEIMPULSEACCORDINGTOTHEINTELLECTUALHISTORIANRUTHLEYSSAWTHEFIGUREOFTHESURVIVOREMERGEINTHEPERIODAFTERTHESECONDWORLDWARALONGSIDEASHIFTINFOCUSFROMTHEVICTIMSFEELINGSOFGUILTTOWARDANINSISTENCEONTHEVICTIMSINNOCENCETHISTRANSFORMATIONLEYSARGUESINVOLVEDREPLACINGTHECONCEPTOFGUILTWITHITSCLOSECOUSINSHAMETHEDIFFERENCEISCRUCIALTHEVICTIMWHOFEELSGUILTEVIDENTLYHASANINNERLIFEWITHINTENTIONSANDDESIRESWHILETHEVICTIMWHOFEELSSHAMESEEMSTOHAVEHADITBESTOWEDFROMOUTSIDETHEVICTIMSOFTRAUMACONSEQUENTLYAPPEARTOBETHEOBJECTSRATHERTHANTHESUBJECTSOFHISTORY\n"
     ]
    }
   ],
   "source": [
    "#Reset the Key for decryption\n",
    "E1.setKey([1,2,0],[3,8,17],0,[['P','E'],['C','K'],['T','X'],['U','F'],['R','L'],['Y','H']])\n",
    "DecryptText2 = E1.runEnigma(cipher2)"
   ]
  },
  {
   "cell_type": "code",
   "execution_count": 15,
   "metadata": {},
   "outputs": [
    {
     "name": "stdout",
     "output_type": "stream",
     "text": [
      "\n",
      "Initialized Enigma 3-Rotor Set with Plugboard Successfully\n",
      "-------------------------------------------------------------------------------------------------------\n",
      "======================================RUNNING ENIGMA CIPHER================================================\n",
      "Running Enigma Cipher on following Text Input (Character Count = 1036 ):\n",
      " ALTHOUGHCOCITATIONANDBIBLIOGRAPHICCOUPLINGAREMATHEMATICALLYSIMILARMEASURESTHEYCANINPRACTICEGIVENOTICEABLYDIFFERENTRESULTSINPARTICULARTHEYAREAFFECTEDSTRONGLYBYTHENUMBEROFINGOINGANDOUTGOINGEDGESTHATVERTICESHAVEFORTWOVERTICESTOHAVESTRONGCOCITATIONTOBEPOINTEDTOBYMANYOFTHESAMEOTHERVERTICESTHEYMUSTBOTHHAVEALOTOFINCOMINGEDGESINTHEFIRSTPLACEINACITATIONNETWORKFORINSTANCETWOPAPERSCANONLYHAVESTRONGCOCITATIONIFTHEYAREBOTHWELLCITEDANDHENCESTRONGCOCITATIONISLIMITEDTOINFLUENTIALPAPERSREVIEWARTICLESBOOKSANDSIMILARHIGHLYCITEDITEMSCONVERSELYTWOPAPERSCANONLYHAVESTRONGBIBLIOGRAPHICCOUPLINGIFTHEYBOTHCITEMANYOTHERSIEIFTHEYHAVELARGEBIBLIOGRAPHIESINPRACTICETHESIZESOFBIBLIOGRAPHIESVARYLESSTHANTHENUMBEROFCITATIONSPAPERSRECEIVEANDHENCEBIBLIOGRAPHICCOUPLINGISAMOREUNIFORMINDICATOROFSIMILARITYBETWEENPAPERSTHANCOCITATIONTHESCIENCECITATIONINDEXFOREXAMPLEMAKESUSEOFBIBLIOGRAPHICCOUPLINGINITSRELATEDRECORDSFEATUREWHICHALLOWSUSERSTOFINDPAPERSSIMILARTOAGIVENPAPERCOCITATIONWOULDBELESSAPPROPRIATEINTHISSITUATIONSINCEITTENDSNOTTOWORKWELLFORPAPERSWITHFEWCITATIONS\n",
      "============================================ENIGMA OUTPUT==================================================\n",
      "Output Text:\n",
      " DVGMBJKDKMGOWVYCLLIDQVCSBBRKKLTQBLTYREAJBXJCYCGHBNWFNVUKJGMTVQQAXKKHWVCNYHJJQSNIUBTFUZYYAQPVXXWERCVHABZRKVORNCKIEPLIUXIZFCGJKTMTWOSUBOQOHBLNVSKUSVSTCLEVVJGDOAGLGMNDYPAZJLODFKJUJHIEFAPJPKVCUXGZBBIAGMZYTICPDYSGQHEXBIMJMPEDLNRZXSXXWNFBKOTPDFAHOASYZYVCHNLKBXIDCIUVXYGWJXIWMOHHKQNTLHGJQEMQCRRDTRGEFCTAYMBOATVLASOYIRRGWSLTMBPTVXUYZAQCNQRZRAWJWXXJIJUJILSFAAKANVTVRMHIYWFMIPBSEYIQFEMISRIGDWRBEPHWWIBYUSFJCMIPFQZZMRTIASJWICVKDKRMMPUMCSUINXHWXXAHZQHJCKIEIXFYGWIZJAXPJAZWDYSAMFIAQCEAKQVBUPBIYHWHWSQQLGZMFLXUVQWECDYETQMJIJPEMXBMUOCGMXSLMXZIRZRCOTJNYNJPIUVYLGUZDXVHYCQKSNHDBFVCTEGQTXJKFNMOZOSOKEVWSXHVLPSBIGSUFXVRMTMYESMCPOWPWHZRQNZRVCHVIFMIFUOHQTIFBIEUARYSAAFDKYJLUFMPGKYLYYEAGMSSTKXRLUNLUWZWRQNMCJWGQRWHHVCTLYUHHUPEFUPMFTQWNKPEVYNLGFUREWNHYFQTTKOMXDWXDJTVZFWYKKBVQXVERGQNJXTUDDVVHWFHXFNKJGQBZMNTKLVHYNXUAVHFMLHERENORABOMYHRVIDSZLMDAORWOSMIDGPURFISJSVZVFPQJEEQCMKGUNGMVHVQHPNRSTHWGVBTBTAFJCMJFQXRUWQQNADLIWEIJSBPSKQWJQLYWBULLCGSTUACTSCEPXBVSBOXZSRKXZTWQYXRJDDIAOZSVIDAQNHMQUFNAIGYQYRZBXZODCOZVGJNWGVLRGVWXIZFXAKEZAQXTIREQZQZKAUMCTSWCMNOBSFRQODKPQYP\n",
      "\n",
      "Initialized Enigma 3-Rotor Set with Plugboard Successfully\n",
      "-------------------------------------------------------------------------------------------------------\n",
      "======================================RUNNING ENIGMA CIPHER================================================\n",
      "Running Enigma Cipher on following Text Input (Character Count = 54 ):\n",
      " SUPPOSEWEHAVEANACYCLICDIRECTEDNETWORKOFSEVERALVERTICES\n",
      "============================================ENIGMA OUTPUT==================================================\n",
      "Output Text:\n",
      " ZMNLBNHXHBFEYVRGBWPWHHWKJWPQQHYSFJKTDSKPFKNCZABDQRGKYB\n"
     ]
    }
   ],
   "source": [
    "#Encrypted 1000 character text to submit without key\n",
    "pt1 = \"Although cocitation and bibliographic coupling are mathematically similar measures they can in practice give noticeably different results. In particular, they are affected strongly by the number of ingoing and outgoing edges that vertices have. For two vertices to have strong cocitation—to be pointed to by many of the same other vertices—they must both have a lot of incoming edges in the first place. In a citation network, for instance, two papers can only have strong cocitation if they are both well cited and hence strong cocitation is limited to influential papers, review articles, books, and similar highly cited items. Conversely, two papers can only have strong bibliographic coupling if they both cite many others, i.e., if they have large bibliographies. In practice, the sizes of bibliographies vary less than the number of citations papers receive, and hence bibliographic coupling is a more uniform indicator of similarity between papers than cocitation. The Science Citation Index, for example, makes use of bibliographic coupling in its “Related Records” feature, which allows users to find papers similar to a given paper. Cocitation would be less appropriate in this situation, since it tends not to work well for papers with few citations.\"\n",
    "\n",
    "E1.setKey([2,0,1],[5,7,11], 0, [['A','K'],['E','N'],['K','P'],['L','T'],['W','Y'],['B','F']])\n",
    "ct1 = E1.runEnigma(pt1)\n",
    "\n",
    "#Encrypt shorter 50 char message with same key\n",
    "E1.setKey([2,0,1],[5,7,11], 0, [['A','K'],['E','N'],['K','P'],['L','T'],['W','Y'],['B','F']])\n",
    "short_msg = \"Suppose we have an acyclic directed network of several vertices.\"\n",
    "ct2 = E1.runEnigma(short_msg)"
   ]
  },
  {
   "cell_type": "code",
   "execution_count": 16,
   "metadata": {},
   "outputs": [
    {
     "name": "stdout",
     "output_type": "stream",
     "text": [
      "\n",
      "Initialized Enigma 3-Rotor Set with Plugboard Successfully\n",
      "-------------------------------------------------------------------------------------------------------\n",
      "======================================RUNNING ENIGMA CIPHER================================================\n",
      "Running Enigma Cipher on following Text Input (Character Count = 1002 ):\n",
      " GEGVSFIAEBWBKTPUUJSXMHZEEGHTJKWQCRACJBTTZZFCQUMURODMEAYLOTNYNLBXXXHQMBPBTZWLKOCVCOJFVOLOEXQYGTVFGJBEOVERVJKCIQUTYSMFCMZHYTDXZTRAVNPQGUJPCIQJRWMXGSCOLFFCVRRXSJJPLWIJVSIYGTGPZMJYEQNVLZZYKSHCUEGORQFKQOVALMAHYBJCNEGLLBSURIDEFQLHAXDYIHDSGQXAJAZIHEPHYGCWXLAZXJKURBQFPBMVHKKJXTPXUAXXXAYGDUBLTQGUOVUNVCYWQZVLRXNFYDKITYRVJBIKXRYKMRQFUMUUFFBTZNJCYYQOPRPBTINYEXPPIFORJCRQOFGESHQJJVZAQFUWKRZVYEGGQMXIPWPAUFLJYPPZCLTKRXDQILQPBLTILBALALLUWPVUVOWKHUDCOHSHWUWYYPLRYCHERUTKQMXREHJKVIFGFBHNOKDVQOYCLVYOZHOKFTEROZUFRKXJBLWALJHDRKNNCVIOMASUVHDWRVFOPHCSBODIERBXSNYNWUDQABAZXPWIFIQTEZMZBWMYIAJHCMEDKWFDCTPOTLZKXRARPFZWYKMOFSUDOPXDSGHLLGQCDBXKRFFOAHOBPMKBUPVRSCMMYLSUGONQUVCBJWWFLYIZEDSZUOZEZHLQCYVLSXYVJYTIZPJFASJJMNSTJWZHNYHROYHTTGXGPOIMLKFLVHOGYPCQRRYDYPGGXTSMODHKPKUIMYFKPYESKCDJDBUMQUZPNPYGWHEIRRNYMIACDDKUJIDQYRNQXVEMECMZNYFUCFHEKXJUITUBKHKURJWDQEPGXMPWPVACBKSYKECXKLYLBFVPTAEAICXFYYENILNPEDCHIETIALJVAKBMGZDHAHANJCHFWOKAOOVBWEUHGREKRMHDKXVCRIIXIZVMQONDHMHWDZJRIHCYMLLOXDHPMENGYLBVKNAYBQFJGQLANQUFQOGUVPMKKVHILNCUXJMPCY\n",
      "============================================ENIGMA OUTPUT==================================================\n",
      "Output Text:\n",
      " THEMUCHTRAVELLEDCRAFTSMANPREFERSTORESIDEWHEREVERTHESONGTAKESHIMFROMWRITINGROOMTOREHEARSALSPACERECORDINGSTUDIOTOCONCERTHALLHEISASTIRELESSLYANDINQUISITIVELYASEVERONTHETRAILOFSOMEMUSICALTRUTHJUSTASHEHASBEENSINCETHESOFRICKYNELSONANDLONNIEDONEGANORTHEPLAYINGOFHANKMARVINANDDUANEEDDYSENTHIMDOWNAPATHTHATLEDTOMILLIONRECORDSALESTHATAPPROACHTOHISLIFESWORKISHOWTHETITLEOFHISNEWEIGHTHSOLOALBUMNOTCOUNTINGAMYRIADOFCOLLABORATIONSPRODUCTIONSANDFILMSOUNDTRACKSCAMEINTOBEINGITSTHEOTHERHALFIFYOULIKEOFHISTYPICALLYACCLAIMEDDOUBLESETPRIVATEERINGWHICHGRACEDTOPTENSTHROUGHOUTEUROPEANDBEYONDINPRIVATEERINGCAMEABOUTBECAUSEINASENSETHATSHOWISAWTHEWHOLETHINGMYOPERATIONHEMUSESTRACKERISAVERYSIMILARSORTOFTHINGYOUREINVOLVEDINTRACKINGDOWNSUBJECTMATTERTRACKINGDOWNANIDEAINVESTIGATINGTHEWHOLETHINGSOMETIMESYOURENOTEXACTLYSUREWHATITISYOURETRACKINGANDYOUFINDOUTASYOURECIRCLINGITANDGETTINGCLOSERTOITTHATSPARTOFTHETHRILLHENCEADELIGHTFULDEEPLYREWARDINGNEWBATCHOFCREATIONSTOCAPTIVATEKNOPFLERSMILLIONSOFDEVOTEESANDTOBEWITCHTHENEXTGENERATION\n",
      "\n",
      "Initialized Enigma 3-Rotor Set with Plugboard Successfully\n",
      "-------------------------------------------------------------------------------------------------------\n",
      "======================================RUNNING ENIGMA CIPHER================================================\n",
      "Running Enigma Cipher on following Text Input (Character Count = 1152 ):\n",
      " BSIBKFTDWQHTIKNOBACHHSYPQNFCRQBDHCLLNQDKJCMMYZWNCVUNLQYVGCMGFBCXMSXHCVQSNRTOFOUWOREUVLVANWSKNDXOEBPGBZBBQHLMOGMUDZPWMYCVSDAFTHAIRXELLVBNGVCLYDDHJXDTVJVPEZDKQGDARRKEILHTXBFIJXHEMRYVNIYIMBDZINPRVOEBVZKWGKZMOBPYHBLYCBABCJIPDWPFTFEQSYPEFZASMDVCHUWMQMCHMZGKDRNTBBRLDPYCMTEKXKWEOTOOPSVZZRLFEOKQGIKCPHDARKTTRSBGRXJTIBSWCAFBDGTDHOMDNAEHTYHJZASICDYENQMAUWHXBYHKCLLDLQPEQYNIEBHVOFNPPQTJQVEIQFEURHLIPAMNZPQFWGOZWVELTRGFZLWBQIKOYJOMNDMMBOAQMUITPBOYFKZCRWVBIBEDMJDGSXSNAMXNONPYOOEJBDCBIQPEDYHIXEWWCDVIWWNAFETLYBKHURTQQNEZQNQVGQZJBCBLQQHYOAWQPRTNCMZFKZLGRZNLWABFZXIMHXMNXGIUQDIZZRBMHFLXHYNASGFZLPLLCTLYOYCDAMRARCUJFYDXSBFJVSFGLVJDUXCYLKDTLLLBODEXCXEBXHZEBBZVPPHLVNSHQMXPVIIJRYESVBGAORPSTYYAWAAOKGGGBAIZMEVGHDJGUVFIBFAVQDVLZLJYLPDRZCDOGUULFCBGESVCCJTNAWMRBOCYDZEBHATLVENJJJQGGQZXYRCIZYHCALVLKAPIIPQGXTRAGYNDGDKXWNDIGFNUNTNSBYDWOPRFVQQFUURISBABQMNFNIWNKLZMELWOLMXUOGCZMOESMLTRGLZSUBNCGJTKJARTAQINDZVOVOXOHSZNQOPBWYGINJHEIZKLSAVZTUFVIAAHGNDEDFYFUCSUGMMKJOOZQEPOJECTNWMIZNVSUQTNQBYEFZMMZRREGXGIBEMVIDQHMWMLCYQOUBFQKYCTXXTJDYIIZEHJQZXNAONXARHCYVSOBHLYEBUIFLNQEHQETWQNFNFKGTAXPNCXCUCWYNTXDKXXCNKIOSBRLWNILQDDKNAKQDCDSMYCPBPOWJBFXJVCUAUIRLZLXNBQGYQEMLVJLTKOKYJMFBMAFDZTSRTD\n",
      "============================================ENIGMA OUTPUT==================================================\n",
      "Output Text:\n",
      " TODAYSMOSTPOWERFULAITECHNIQUESLEARNALMOSTEVERYTHINGABOUTTHEWORLDFROMSCRATCHWITHTHEHELPOFPOWERFULCOMPUTATIONALRESOURCESBYCOMPARISONHUMANSANDANIMALSSEEMTOINTUITIVELYUNDERSTANDCERTAINCONCEPTSOBJECTSANDPLACESANDSETSOFRELATEDTHINGSTHATALLOWTHEMTOQUICKLYLEARNABOUTHOWTHEWORLDWORKSTHATBEGSANIMPORTANTNATUREVSNURTUREQUESTIONWILLAILEARNINGREQUIREBUILTINVERSIONSOFTHATINNATECOGNITIVEMACHINERYPOSSESSEDBYHUMANSANDANIMALSTOACHIEVEASIMILARLEVELOFGENERALINTELLIGENCETWOLEADINGRESEARCHERSINAIANDPSYCHOLOGYWENTHEADTOHEADDEBATINGTHATTOPICINANEVENTHOSTEDBYNEWYORKUNIVERSITYSCENTERFORMINDBRAINANDCONSCIOUSNESSLASTNIGHTNONEOFTHEAITECHNIQUESWEHAVECANBUILDREPRESENTATIONSOFTHEWORLDWHETHERTHROUGHSTRUCTUREORTHROUGHLEARNINGTHATAREANYWHERENEARWHATWEOBSERVEINANIMALSANDHUMANSSAIDYANNLECUNACOMPUTERSCIENTISTATNYUANDDIRECTOROFFACEBOOKARTIFICIALINTELLIGENCERESEARCHLECUNHELPEDPIONEERTHEAIFIELDOFDEEPLEARNINGTHATHASHELPEDTECHGIANTSAUTOMATEPOPULARSERVICESSUCHASFILTERINGFRIENDSFACESONFACEBOOKORTRANSLATINGBETWEENCHINESEANDENGLISHTHROUGHGOOGLETRANSLATEDEEPLEARNINGALGORITHMSFIGUREDOUTHOWTOPERFORMALLTHOSETASKSWITHOUTTHEAIEQUIVALENTOFTHEINNATECOGNITIVEMACHINERYTHATHUMANSANDANIMALSHAVE\n"
     ]
    }
   ],
   "source": [
    "#Test Decryption: kamrul_enigma_1.txt\n",
    "E1.setKey([0,1,2],[0,2,4], 0, [['A','C'],['E','G'],['K','M'],['L','T'],['W','Y'],['B','F']])\n",
    "kamrul_text_1 = \"gegvsfiaebwbktpuujsxmhzeeghtjkwqcracjbttzzfcqumurodmeaylotnynlbxxxhqmbpbtzwlkocvcojfvoloexqygtvfgjbeovervjkciqutysmfcmzhytdxztravnpqgujpciqjrwmxgscolffcvrrxsjjplwijvsiygtgpzmjyeqnvlzzykshcuegorqfkqovalmahybjcnegllbsuridefqlhaxdyihdsgqxajazihephygcwxlazxjkurbqfpbmvhkkjxtpxuaxxxaygdubltqguovunvcywqzvlrxnfydkityrvjbikxrykmrqfumuuffbtznjcyyqoprpbtinyexppiforjcrqofgeshqjjvzaqfuwkrzvyeggqmxipwpaufljyppzcltkrxdqilqpbltilbalalluwpvuvowkhudcohshwuwyyplrycherutkqmxrehjkvifgfbhnokdvqoyclvyozhokfterozufrkxjblwaljhdrknncviomasuvhdwrvfophcsbodierbxsnynwudqabazxpwifiqtezmzbwmyiajhcmedkwfdctpotlzkxrarpfzwykmofsudopxdsghllgqcdbxkrffoahobpmkbupvrscmmylsugonquvcbjwwflyizedszuozezhlqcyvlsxyvjytizpjfasjjmnstjwzhnyhroyhttgxgpoimlkflvhogypcqrrydypggxtsmodhkpkuimyfkpyeskcdjdbumquzpnpygwheirrnymiacddkujidqyrnqxvemecmznyfucfhekxjuitubkhkurjwdqepgxmpwpvacbksykecxklylbfvptaeaicxfyyenilnpedchietialjvakbmgzdhahanjchfwokaoovbweuhgrekrmhdkxvcriixizvmqondhmhwdzjrihcymlloxdhpmengylbvknaybqfjgqlanqufqoguvpmkkvhilncuxjmpcy\"\n",
    "\n",
    "kh1 = E1.runEnigma(kamrul_text_1)\n",
    "\n",
    "#Test Decryption: kamrul_enigma_2.txt\n",
    "E1.setKey([0,1,2],[21,20,14], 0, [['K','C'],['H','T'],['W','Z'],['L','P'],['B','N'],['A','F']])\n",
    "kamrul_text_2 = \"bsibkftdwqhtiknobachhsypqnfcrqbdhcllnqdkjcmmyzwncvunlqyvgcmgfbcxmsxhcvqsnrtofouworeuvlvanwskndxoebpgbzbbqhlmogmudzpwmycvsdafthairxellvbngvclyddhjxdtvjvpezdkqgdarrkeilhtxbfijxhemryvniyimbdzinprvoebvzkwgkzmobpyhblycbabcjipdwpftfeqsypefzasmdvchuwmqmchmzgkdrntbbrldpycmtekxkweotoopsvzzrlfeokqgikcphdarkttrsbgrxjtibswcafbdgtdhomdnaehtyhjzasicdyenqmauwhxbyhkclldlqpeqyniebhvofnppqtjqveiqfeurhlipamnzpqfwgozwveltrgfzlwbqikoyjomndmmboaqmuitpboyfkzcrwvbibedmjdgsxsnamxnonpyooejbdcbiqpedyhixewwcdviwwnafetlybkhurtqqnezqnqvgqzjbcblqqhyoawqprtncmzfkzlgrznlwabfzximhxmnxgiuqdizzrbmhflxhynasgfzlpllctlyoycdamrarcujfydxsbfjvsfglvjduxcylkdtlllbodexcxebxhzebbzvpphlvnshqmxpviijryesvbgaorpstyyawaaokgggbaizmevghdjguvfibfavqdvlzljylpdrzcdoguulfcbgesvccjtnawmrbocydzebhatlvenjjjqggqzxyrcizyhcalvlkapiipqgxtragyndgdkxwndigfnuntnsbydwoprfvqqfuurisbabqmnfniwnklzmelwolmxuogczmoesmltrglzsubncgjtkjartaqindzvovoxohsznqopbwyginjheizklsavztufviaahgndedfyfucsugmmkjoozqepojectnwmiznvsuqtnqbyefzmmzrregxgibemvidqhmwmlcyqoubfqkyctxxtjdyiizehjqzxnaonxarhcyvsobhlyebuiflnqehqetwqnfnfkgtaxpncxcucwyntxdkxxcnkiosbrlwnilqddknakqdcdsmycpbpowjbfxjvcuauirlzlxnbqgyqemlvjltkokyjmfbmafdztsrtd\"\n",
    "\n",
    "kh2 = E1.runEnigma(kamrul_text_2)"
   ]
  },
  {
   "cell_type": "code",
   "execution_count": 17,
   "metadata": {},
   "outputs": [
    {
     "name": "stdout",
     "output_type": "stream",
     "text": [
      "\n",
      "Initialized Enigma 3-Rotor Set with Plugboard Successfully\n",
      "-------------------------------------------------------------------------------------------------------\n",
      "======================================RUNNING ENIGMA CIPHER================================================\n",
      "Running Enigma Cipher on following Text Input (Character Count = 1513 ):\n",
      " EICUBGBDAJOGCLWXNRKAZXNQSGZODGFWDPATZKZJTMZMVACNMZKNXXVPYYILLRVFCLZEVXCNOCXBBCJIONXOPHIRMOKXGIVRWASGZIGNDROBMRTTKJPFQOBAYHNJGVJHPXDYFWTURXFNVFKDYKTTCXFZWYMPLKJNBCURVXOTYXFFTVZKTNLEPBQKLKTVBGHFCHHSUSTNRHSRBIZTXQDHJYHWADUAPGNDMOJPUCYMWZFMCTZFZYSBDJRLHQUCDKDDXRHEFOCUAEGVWAKTGDJVOAOKVGJNJUGTVSKHIWTSFNDQAOKETALKHADLKPPEESYFLWMPLZLIKMMKMLOPTNWWNCJQMBLAWQTGRRHLHYXOVXVLLFEHOQBKCGDBTMGWFJYHTMLEQWKMBCJEWOYQJBRRXKOJSRXCJYQHUAADYNJKQWHQQNOFUHRIITXPHEWZWHFWYCHJQNNDDNFFXUSHZHJGBYJKEJTVJBAQCPKRFRWJKQOEFYCQUXUWNYBBBBEXGYBZARFIIQJYRFWIQOYSVFOZXSEOSKBYYYWTCKQZHHHGPZXPQIFCLUSBNLXXCYCGNGDYQUYAOMUXDVVYQHOENINIYRDCJIQNWTVCOQUIRSOBWBXUCSXXTCRQPOFAPHVNLZAISXTUYQXTTZDQPJHSFQXMQDIYCUXOXRJYZLHNLFFLQLNGHZXSUUWXFFCEGLJPFOGDSYWRWOBUZZHSXJVGVINMAGCNKVSLYMPUDIWFSYPOMIDUGPSWQWOWLGVJNMUTOGKZNIZNFXVQYSZONULLLQQMYUYUNBIRVETJENIYYDVHNVYAQSYTRELZFVHVGORTOIMZORXTSQJIMCBTZPTIKHXOQUKHNMSBRJXHZXFVCWLLYMEMBXGZDFEGMGSAKPTSLNMKQVHKTYAQQMBABWVMZQXXZWHZTILFWWYVETBLCHPOZCGTAGBTRHIFVEGQGBDTZJKWMLLKVSPYGKNYNKTKBTILSEFVZGISCRGVIBVTPGMSMVGZGRFSKSCXDQTPPGFJIFIVKRNNCTEGPOHZFOIHHMAQWLFPEXXOILRUTLGNPLHMKCFQIMWUCHHDRBCBEOTTACBZQZKGSUMWRJBQZXCMWMKUPDVDQFBSAKLQMYHAHDSQDGATRXOHMVUYIESJYSSMIKSCCBBQKLEEWPBQCTRZVQSTXPDJZTOIAFNOMNIMRQYDANGYVTMOETULFTPWTRHPSDKXIGDTMDKUXPUTOWASFFJFPQGVMQMJWVSOHBMCHOVRHXTPEJKFUBBSVHERQYPVFELOOCYLHUNLVOXRNIPUMRSRAQWZQVKAIPVZAATJFWCAPVBFLYISVKCMWKQGMCOSNHIYBLMIBMMUYXELSGJCSGQNJTXZHVWKRGQHAXURSKXTTJOUDJEROHFQUWXVCSHPAHVUABTNPWLJBJVZSLUWTWWBDKIHMQZOCREKYVFZYSBWCPBAUMSZBIYCEKBSXAPXPHIJFLKKWMJSQVQFBWHPRRUUYPYOJDWHSCKSAYOIXFVRK\n",
      "============================================ENIGMA OUTPUT==================================================\n",
      "Output Text:\n",
      " THEREAREFIVEPOSSIBLEROTORSTHATCANBEUSEDINANYORDERFORTHETHREEROTORPOSITIONSRIGHTMIDDLELEFTEACHROTORHASANINNERRINGOFCONTACTSANDANOUTERRINGOFCONTACTSANDTHEIRPURPOSEISTOSCRAMBLETHESIGNALTHEOUTERRINGCONTACTSCONNECTEACHROTORTOTHENEXTROTORORTHESTATICROTORREFLECTORASWELLASITSOWNINNERRINGTHEINNERRINGCONTACTSCANBEROTATEDRELATIVETOTHEOUTERRINGWHICHRESULTSINEVENMOREPOSSIBLECONNECTIONSANDTHEREFORELETTERSUBSTITUTIONSTHEWHOLEROTORITSELFCANBEROTATEDRELATIVETOTHESTATICROTORSOTHATTHESTATICROTORAOUTPUTISNOTCONNECTEDTOAINPUTONTHEROTATINGROTORFURTHERMOREASEACHLETTERISENTEREDTHEROTORSROTATEBYONEPOSITIONSOTHATTHESAMELETTERSARENEVERCONNECTEDTOGETHERINTHESAMEMESSAGETOADDFURTHERCOMPLICATIONEACHROTORHASANOTCHESDIFFERENTROTORSHAVETHENOTCHINDIFFERENTPOSITIONSWHICHWHENREACHEDCAUSESTHENEXTROTORTOITSLEFTTOSTEPFORWARDTOOINTHECASEOFTHEMIDDLEROTORITCAUSESTHELEFTROTORTOSTEPASWELLASITSELFTHEINFAMOUSDOUBLESTEPPINGMECHANISMTHEREFLECTORTAKESTHEINPUTANDREFLECTSBACKTHEELECTRICALSIGNALFORITSRETURNJOURNEYTHROUGHTHEROTORSTHEREARETWOPOSSIBLEREFLECTORSEACHOFWHICHISWIREDUPDIFFERENTLYSOTHATTHEINPUTLETTERISTRANSFORMEDTOADIFFERENTLETTERWHENREFLECTEDBACKINOUREXAMPLEWEAREUSINGREFLECTORBWHICHTURNSOURINPUTLETTERHINTOOUTPUTLETTERDITISIMPORTANTTHATTHESIGNALISSCRAMBLEDWHENREFLECTEDBECAUSEOFTHEWAYTHEENIGMAMACHINEISDESIGNEDIFYOUENTERTHECIPHERTEXTYOUGETBACKTHECLEARTEXTSOIFTHEREFLECTOROUTPUTISTHESAMELETTERASITSINPUTWHENTHESIGNALPASSESBACKTHROUGHTHEROTORSTHEYWILLJUSTUNSCRAMBLEWHATWASALREADYSCRAMBLEDANDYOUWOULDGETYOURORIGINALLETTERBACKAGAINUNENCRYPTED\n",
      "\n",
      "Initialized Enigma 3-Rotor Set with Plugboard Successfully\n",
      "-------------------------------------------------------------------------------------------------------\n",
      "======================================RUNNING ENIGMA CIPHER================================================\n",
      "Running Enigma Cipher on following Text Input (Character Count = 1840 ):\n",
      " JKAGOVFTLDDFWYPBWCOLDILZYCLBAESHIUYMMUUURKUOPSXVEIVANICVPOFGXLFYSSCJTHWHVBHWMWXMALIVZYTCRKXHEIYCTIXWRZVUFDBWQXXQPSMLFFTYFFXIRWNPKAULCEYIZQIQPQYWJQQKFONXMHJGKFWNJKDLJYTRPBUBXEEHOSYVCPDUYJDDQIEGVKQQJDFVIBXKVZKBKUSNTOMQVNACOILNBODAPHCTZKMLWFBIGNBVISLEWQISSQBMBDTWIHPVVTUTHUTQEKXBBXJNLRGTHEJTNFNWZVQHWCXWAWQVBORDUQTBMGDZTOUBVGCIAIKNKVLMOZMYMLIFCIGEZYTXJBHFSIVCJUOCLRPVFFHOEYNETBCIMXIXISEKEKKCGOSBPIBDDCRJVKYRYLNZQPKRKHRHQFZHPYPBUDFCOVMEHFWKVZONBDCYEIHWZTPOIWHFARMFBPEGTPFPIKFQJIIMDTVWZHIYRKKXZTERDNFLMPCLWYGKSGNRBSQTQJTPBTUPNYCZRHUNTNETJVZETVOJLKSRGJFBGHJRPXMHILHCIFJCWJPAQFALDDIMGWULVMEEDNSVCQTRYBDEOYFQPQQSMNQDJYDAZCUYHGRTESDNMUYHJZQUZHPUYHZYGWIVTKVAFWBHSIXZLYLQFKFLZUDQBNZLPJMZHABMBPAYBAIDPNSHJIHALNGCTNOYTXYWEDUMKYMFAFATYRLRTHKFLFPJZJPKPEPVPNPXFZRFTTBJBSFXHSQJARNRQDRVBFLKMVGMYAOBMILWACCWLJFVAXLHHIUYUZBYKIFGYETMFGMQCCDSDZQCRLRRTEMTXZIIMAEUITBOSGONMJUQFMHBMPNKHUKASFTNIQLUYFWLFKJXMJTPLNFOIYHSEWKCMXFEVLRZMYDCIVKXNYKTWZWDJVFNHGFCCPUFKCFHKXUVRWKKLIKMHMBJIPAZCULSKXEHEANVYRAQJZXXFTNBYWQHSOINAVXIVWKWALFKIHFBJFMFSMEBHTKORXVSSNPXSZHTAKNFIRZZKYQSQOARLTTAIAHJWZDCVGGATWNSOHQYZMEMJHAEAYIYGRYAQSMDYOAZFXYKRIUTQQEGXMGVZGGJVQWGAKMCLYXNUSFLARDRUEHALTBXUAAFRYGIZNGDIABWJSDSZCCEMDZSAPZBFZOQXVCWPEWVMKMQKWOXTDRKWSMKCCAYHDYEXAJYFUWTQCHAXYDPEGHLZCVCJTTUDDDCZZVRNMONYZLVZQJKDYKFFMXMZVLGYGVVLTQPMPVPYTBOQERDDSKILOWQHZEWOAEJFWCUFWEXQBYPCFMSLVROBTNWTOCGHPFYDRRLCZBEARDGQTGDIWZXMOQBOOUDSCXMQHEQYGYAEOZDYLPCLHNBOTFSWTWTYBWBEKMFSDRHSFXVIBGAZALVOQMBAPXHBNQOHELZYSFUAFQKDTMOHCEAPIVTFLTBWUWHCYVXEOWILJDERRJSFWCLLDNMLSYWWIIPICILOFKRGIDGYQAGZHDZPDQWUZKOZIEDJPVJNWXTZLDPZWMISXAJWESABDKDSEJBYAZKFVVRPIBYRWREIQTTJSXURBEXYVADSVAWVOCAFNNWMMUHUPEMDSXXGJBNNENSAEICTMUSAIITIJASDFFFEKUQOEIMHYYPGOMMJAGUKKBFCZKTWDYAUKEMQFAHIQRDJKILIAXWOTIETWUCNQGQETGHGXUHRCVODNNIBKGHSYPILXWOIXUZUNKZASREAGAKDQTSOKTDOJOXKZUKDOGXQRFOPXGUJWNENFFBGCKAZOBZGMXDKMRKGVFRJHTLRNVFFBEIVEHHCXMSXYVVHEYHYSWY\n",
      "============================================ENIGMA OUTPUT==================================================\n",
      "Output Text:\n",
      " TURINGWASHIGHLYINFLUENTIALINTHEDEVELOPMENTOFTHEORETICALCOMPUTERSCIENCEPROVIDINGAFORMALISATIONOFTHECONCEPTSOFALGORITHMANDCOMPUTATIONWITHTHETURINGMACHINEWHICHCANBECONSIDEREDAMODELOFAGENERALPURPOSECOMPUTERTURINGISWIDELYCONSIDEREDTOBETHEFATHEROFTHEORETICALCOMPUTERSCIENCEANDARTIFICIALINTELLIGENCEDURINGTHESECONDWORLDWARTURINGWORKEDFORTHEGOVERNMENTCODEANDCYPHERSCHOOLGCCSATBLETCHLEYPARKBRITAINSCODEBREAKINGCENTRETHATPRODUCEDULTRAINTELLIGENCEFORATIMEHELEDHUTTHESECTIONWHICHWASRESPONSIBLEFORGERMANNAVALCRYPTANALYSISHEREHEDEVISEDANUMBEROFTECHNIQUESFORSPEEDINGTHEBREAKINGOFGERMANCIPHERSINCLUDINGIMPROVEMENTSTOTHEPREWARPOLISHBOMBEMETHODANELECTROMECHANICALMACHINETHATCOULDFINDSETTINGSFORTHEENIGMAMACHINETURINGPLAYEDAPIVOTALROLEINCRACKINGINTERCEPTEDCODEDMESSAGESTHATENABLEDTHEALLIESTODEFEATTHENAZISINMANYCRUCIALENGAGEMENTSINCLUDINGTHEBATTLEOFTHEATLANTICANDINSODOINGHELPEDWINTHEWARCOUNTERFACTUALHISTORYISDIFFICULTWITHRESPECTTOTHEEFFECTULTRAINTELLIGENCEHADONTHELENGTHOFTHEWARBUTATTHEUPPERENDITHASBEENESTIMATEDTHATTHISWORKSHORTENEDTHEWARINEUROPEBYMORETHANTWOYEARSANDSAVEDOVERFOURTEENMILLIONLIVESAFTERTHEWARTURINGWORKEDATTHENATIONALPHYSICALLABORATORYWHEREHEDESIGNEDTHEACEAMONGTHEFIRSTDESIGNSFORASTOREDPROGRAMCOMPUTERINTURINGJOINEDMAXNEWMANSCOMPUTINGMACHINELABORATORYATTHEVICTORIAUNIVERSITYOFMANCHESTERWHEREHEHELPEDDEVELOPTHEMANCHESTERCOMPUTERSANDBECAMEINTERESTEDINMATHEMATICALBIOLOGYHEWROTEAPAPERONTHECHEMICALBASISOFMORPHOGENESISANDPREDICTEDOSCILLATINGCHEMICALREACTIONSSUCHASTHEBELOUSOVZHABOTINSKYREACTIONFIRSTOBSERVEDINTHESTURINGWASPROSECUTEDINFORHOMOSEXUALACTSWHENBYTHELABOUCHEREAMENDMENTGROSSINDECENCYWASCRIMINALINTHEUKHEACCEPTEDCHEMICALCASTRATIONTREATMENTWITHDESASANALTERNATIVETOPRISONTURINGDIEDINDAYSBEFOREHISNDBIRTHDAYFROMCYANIDEPOISONINGANINQUESTDETERMINEDHISDEATHASSUICIDEBUTITHASBEENNOTEDTHATTHEKNOWNEVIDENCEISALSOCONSISTENTWITHACCIDENTALPOISONING\n"
     ]
    }
   ],
   "source": [
    "#Test Decryption: chakraborti_enigma_1.txt\n",
    "E1.setKey([0,1,2], [12,5,17], 0, [['A', 'Z'], ['B', 'Y'], ['C', 'X'], ['D', 'W'], ['E', 'V'],['F','U']])\n",
    "chkbrti_text_1 = \"eicubgbdajogclwxnrkazxnqsgzodgfwdpatzkzjtmzmvacnmzknxxvpyyillrvfclzevxcnocxbbcjionxophirmokxgivrwasgzigndrobmrttkjpfqobayhnjgvjhpxdyfwturxfnvfkdykttcxfzwymplkjnbcurvxotyxfftvzktnlepbqklktvbghfchhsustnrhsrbiztxqdhjyhwaduapgndmojpucymwzfmctzfzysbdjrlhqucdkddxrhefocuaegvwaktgdjvoaokvgjnjugtvskhiwtsfndqaoketalkhadlkppeesyflwmplzlikmmkmloptnwwncjqmblawqtgrrhlhyxovxvllfehoqbkcgdbtmgwfjyhtmleqwkmbcjewoyqjbrrxkojsrxcjyqhuaadynjkqwhqqnofuhriitxphewzwhfwychjqnnddnffxushzhjgbyjkejtvjbaqcpkrfrwjkqoefycquxuwnybbbbexgybzarfiiqjyrfwiqoysvfozxseoskbyyywtckqzhhhgpzxpqifclusbnlxxcycgngdyquyaomuxdvvyqhoeniniyrdcjiqnwtvcoquirsobwbxucsxxtcrqpofaphvnlzaisxtuyqxttzdqpjhsfqxmqdiycuxoxrjyzlhnlfflqlnghzxsuuwxffcegljpfogdsywrwobuzzhsxjvgvinmagcnkvslympudiwfsypomidugpswqwowlgvjnmutogkzniznfxvqyszonulllqqmyuyunbirvetjeniyydvhnvyaqsytrelzfvhvgortoimzorxtsqjimcbtzptikhxoqukhnmsbrjxhzxfvcwllymembxgzdfegmgsakptslnmkqvhktyaqqmbabwvmzqxxzwhztilfwwyvetblchpozcgtagbtrhifvegqgbdtzjkwmllkvspygknynktkbtilsefvzgiscrgvibvtpgmsmvgzgrfskscxdqtppgfjifivkrnnctegpohzfoihhmaqwlfpexxoilrutlgnplhmkcfqimwuchhdrbcbeottacbzqzkgsumwrjbqzxcmwmkupdvdqfbsaklqmyhahdsqdgatrxohmvuyiesjyssmiksccbbqkleewpbqctrzvqstxpdjztoiafnomnimrqydangyvtmoetulftpwtrhpsdkxigdtmdkuxputowasffjfpqgvmqmjwvsohbmchovrhxtpejkfubbsvherqypvfeloocylhunlvoxrnipumrsraqwzqvkaipvzaatjfwcapvbflyisvkcmwkqgmcosnhiyblmibmmuyxelsgjcsgqnjtxzhvwkrgqhaxurskxttjoudjerohfquwxvcshpahvuabtnpwljbjvzsluwtwwbdkihmqzocrekyvfzysbwcpbaumszbiycekbsxapxphijflkkwmjsqvqfbwhprruuypyojdwhscksayoixfvrk\"\n",
    "\n",
    "sc1 = E1.runEnigma(chkbrti_text_1)\n",
    "\n",
    "#Test Decryption: chakraborti_enigma_2.txt\n",
    "E1.setKey([0,1,2], [8,14,23], 0, [[Letters[6], Letters[19]], [Letters[7], Letters[18]], [Letters[8], Letters[17]], [Letters[9], Letters[16]], [Letters[10], Letters[15]],[Letters[11],Letters[14]]])\n",
    "chkbrti_text_2 = \"jkagovftlddfwypbwcoldilzyclbaeshiuymmuuurkuopsxveivanicvpofgxlfysscjthwhvbhwmwxmalivzytcrkxheiyctixwrzvufdbwqxxqpsmlfftyffxirwnpkaulceyizqiqpqywjqqkfonxmhjgkfwnjkdljytrpbubxeehosyvcpduyjddqiegvkqqjdfvibxkvzkbkusntomqvnacoilnbodaphctzkmlwfbignbvislewqissqbmbdtwihpvvtuthutqekxbbxjnlrgthejtnfnwzvqhwcxwawqvborduqtbmgdztoubvgciaiknkvlmozmymlifcigezytxjbhfsivcjuoclrpvffhoeynetbcimxixisekekkcgosbpibddcrjvkyrylnzqpkrkhrhqfzhpypbudfcovmehfwkvzonbdcyeihwztpoiwhfarmfbpegtpfpikfqjiimdtvwzhiyrkkxzterdnflmpclwygksgnrbsqtqjtpbtupnyczrhuntnetjvzetvojlksrgjfbghjrpxmhilhcifjcwjpaqfalddimgwulvmeednsvcqtrybdeoyfqpqqsmnqdjydazcuyhgrtesdnmuyhjzquzhpuyhzygwivtkvafwbhsixzlylqfkflzudqbnzlpjmzhabmbpaybaidpnshjihalngctnoytxywedumkymfafatyrlrthkflfpjzjpkpepvpnpxfzrfttbjbsfxhsqjarnrqdrvbflkmvgmyaobmilwaccwljfvaxlhhiuyuzbykifgyetmfgmqccdsdzqcrlrrtemtxziimaeuitbosgonmjuqfmhbmpnkhukasftniqluyfwlfkjxmjtplnfoiyhsewkcmxfevlrzmydcivkxnyktwzwdjvfnhgfccpufkcfhkxuvrwkklikmhmbjipazculskxeheanvyraqjzxxftnbywqhsoinavxivwkwalfkihfbjfmfsmebhtkorxvssnpxszhtaknfirzzkyqsqoarlttaiahjwzdcvggatwnsohqyzmemjhaeayiygryaqsmdyoazfxykriutqqegxmgvzggjvqwgakmclyxnusflardruehaltbxuaafrygizngdiabwjsdszccemdzsapzbfzoqxvcwpewvmkmqkwoxtdrkwsmkccayhdyexajyfuwtqchaxydpeghlzcvcjttudddczzvrnmonyzlvzqjkdykffmxmzvlgygvvltqpmpvpytboqerddskilowqhzewoaejfwcufwexqbypcfmslvrobtnwtocghpfydrrlczbeardgqtgdiwzxmoqbooudscxmqheqygyaeozdylpclhnbotfswtwtybwbekmfsdrhsfxvibgazalvoqmbapxhbnqohelzysfuafqkdtmohceapivtfltbwuwhcyvxeowiljderrjsfwclldnmlsywwiipicilofkrgidgyqagzhdzpdqwuzkoziedjpvjnwxtzldpzwmisxajwesabdkdsejbyazkfvvrpibyrwreiqttjsxurbexyvadsvawvocafnnwmmuhupemdsxxgjbnnensaeictmusaiitijasdfffekuqoeimhyypgommjagukkbfczktwdyaukemqfahiqrdjkiliaxwotietwucnqgqetghgxuhrcvodnnibkghsypilxwoixuzunkzasreagakdqtsoktdojoxkzukdogxqrfopxgujwnenffbgckazobzgmxdkmrkgvfrjhtlrnvffbeivehhcxmsxyvvheyhyswy\"\n",
    "\n",
    "sc2 = E1.runEnigma(chkbrti_text_2)"
   ]
  },
  {
   "cell_type": "code",
   "execution_count": 18,
   "metadata": {},
   "outputs": [
    {
     "name": "stdout",
     "output_type": "stream",
     "text": [
      "\n",
      "Initialized Enigma 3-Rotor Set with Plugboard Successfully\n",
      "-------------------------------------------------------------------------------------------------------\n",
      "======================================RUNNING ENIGMA CIPHER================================================\n",
      "Running Enigma Cipher on following Text Input (Character Count = 1796 ):\n",
      " MRXYFALXMFHZSZPSIBBWOSPHFAPJKGDDKJNRLPLFJNCXWAVRCIYLLOXCOCAULYGZJEMDMUDYJDDYYCSZXBTBPXAMWBPLWJAMVCAFWQDKFFHMYOVVSCJTZGSYBXWGTUICONTEQYALZCNZPABZPRPQMNXSWGLOLUOHHHJQHZZQJMLRSCVLNUDOGVWGHCUXEPULEEDCUADIOYJEFLLJJYTFRMRHUIHCTSRSHCEHNONDFANCNPNOCJMHVBHDEJTKBTTBLRWAZLDRHXPIYMBAZUXNNFEKWONOHKMZDKABYXAMMNSOWBIPCNVWUOBWLFYWRCHUMYJDGJDXHSAJIYWEWFCFIVEARQIYRGWIOMKVDLJNJODQSXKXLBBSDDKMMZYSQCZLDYGTKMJWZKFQTCSQAKUKRZUMMGWVEMMSUSJMREOLCBUSDFJGLGAKHXIPNVYNTEEUJCRHXUPFDKQYDLXNPDPDGVIPKQFITFLNFSBXVFTMANKLWRFNRAGOSBGJOQRDEUYSCBBKXRRBKZFTBYZDGXLTRWYJHJMSUKQPJCZILORLGYIIYFXIJEVPVCDSAFKVMEJCIWSTBOIBYBPMKXVEXCUDNRSQVWCUCJEHSIWMWGFQBBVIQNWQFTLYHBQXMOQWCMUXPQVLQWQVPQNZKJJMWOJPGVJPLAAAJDUQMDMXEZHLCGUQKMFVEVLHHQMTTHQMRWLFXDRYZCDKGCNQVWJTSSSYYCKRLYKMEOTUHWEXJBEVXYNFHQXIKXIQUGJRJQUZBDXDGMQVLUJNNTRJIHJWZACLEKARLLDSQHPNTHXYSMQLDYARYINKBVKIQXKWANTQZZXHNSNYXBLFBMAJCSWBITXXVTIPZPWQDKSDVDWFPSSIRPMQWANNTVFAHCFSIAVNWMXHKDMCAUWKYEVZTFZRUHSLLRPCQYHLDPCBGJYESKYIWUVGYUJHPAZXDKJHTNFFLHBVDRDZFWQBHZCOVZWRXQEQHLVBCFCPXQQRJUGULCCVKTIHZVKUHFNZGOGOSXOGUPYPXMRZJYPBFQGKTJKXWPYHWKMDRPZVLYCGJERKDGFCRWMGJOFLCDZCYDNMPCCEKDHKUMZCLYTWWPTHTCCOWHWLTDJHVZYXTXXYMSXSOLPZWWQWNAZYSULZUPRPIDEBFQMSWOZSAHKFGHNDDZAKWRJILYCNJXIPLIRGJOYLZNAVWIXZTSANDQXEKISUTFPYXTLNMCBEJJXCXFPBZOOIMGAYNQBYUMLEMICIUTCAPURHOYFTLQGVBIHBFMXXZINDWCZXAMTQKGACKIKGSZSNVMCLFHXXPVSJZEKRHRLXXQDWTVSOERWIGDFPZXAEILBQRCGWHZREBQYIQIVFPLAWRKNNLFFUGQBAZFLEMYRLDBBRVFKBTLABSQALFVGPEIXYSDVOYDKZFSTWWLHRBPESPYLFQJIVAGBQTKNQHSKUMWUSPMOZZAPZZQIAFMASSYYNVLXWEYNXJWJKUXPSQFKDTGJPJIMJGATZDJVOCSAKDPDCUWQMDSGEKUXBAKLCUFQTKPCQCPVJCDSWNDZIRVDINOAVUAGSRCWTDMMQJEUGYGRLUTJBRVMCZMKDBOXLJRYVKNUECFNTWSGWLAPBBLUXDUOBRWCAOGAWZCBXQOOKFYHOYMDSOMJJCZPCLBRAEDFKCFMJXPOUWBSEPIDMJOVXKVSUMMUNJVXORTZTARYQMUFOXKZZBXMLTQYTNRRJXXTJXXBPZAAQDRMHOBMLQAOYHVQGZFUHLOVUUWOYHTNMHTGYLUMRRAJRQSOLWQVNUWNIMXUXLXXG\n",
      "============================================ENIGMA OUTPUT==================================================\n",
      "Output Text:\n",
      " THEMORNINGOFJUNETHWASCLEARANDSUNNYWITHTHEFRESHWARMTHOFAFULLSUMMERDAYTHEFLOWERSWEREBLOSSOMINGPROFUSELYANDTHEGRASSWASRICHLYGREENTHEPEOPLEOFTHEVILLAGEBEGANTOGATHERINTHESQUAREBETWEENTHEPOSTOFFICEANDTHEBANKAROUNDTENOCLOCKINSOMETOWNSTHEREWERESOMANYPEOPLETHATTHELOTTERYTOOKTWODAYSANDHADTOBESTARTEDONJUNETHBUTINTHISVILLAGEWHERETHEREWEREONLYABOUTTHREEHUNDREDPEOPLETHEWHOLELOTTERYTOOKLESSTHANTWOHOURSSOITCOULDBEGINATTENOCLOCKINTHEMORNINGANDSTILLBETHROUGHINTIMETOALLOWTHEVILLAGERSTOGETHOMEFORNOONDINNERTHECHILDRENASSEMBLEDFIRSTOFCOURSESCHOOLWASRECENTLYOVERFORTHESUMMERANDTHEFEELINGOFLIBERTYSATUNEASILYONMOSTOFTHEMTHEYTENDEDTOGATHERTOGETHERQUIETLYFORAWHILEBEFORETHEYBROKEINTOBOISTEROUSPLAYANDTHEIRTALKWASSTILLOFTHECLASSROOMANDTHETEACHEROFBOOKSANDREPRIMANDSBOBBYMARTINHADALREADYSTUFFEDHISPOCKETSFULLOFSTONESANDTHEOTHERBOYSSOONFOLLOWEDHISEXAMPLESELECTINGTHESMOOTHESTANDROUNDESTSTONESBOBBYANDHARRYJONESANDDICKIEDELACROIXTHEVILLAGERSPRONOUNCEDTHISNAMEDELLACROYEVENTUALLYMADEAGREATPILEOFSTONESINONECORNEROFTHESQUAREANDGUARDEDITAGAINSTTHERAIDSOFTHEOTHERBOYSTHEGIRLSSTOODASIDETALKINGAMONGTHEMSELVESLOOKINGOVERTHEIRSHOULDERSATROLLEDINTHEDUSTORCLUNGTOTHEHANDSOFTHEIROLDERBROTHERSORSISTERSSOONTHEMENBEGANTOGATHERSURVEYINGTHEIROWNCHILDRENSPEAKINGOFPLANTINGANDRAINTRACTORSANDTAXESTHEYSTOODTOGETHERAWAYFROMTHEPILEOFSTONESINTHECORNERANDTHEIRJOKESWEREQUIETANDTHEYSMILEDRATHERTHANLAUGHEDTHEWOMENWEARINGFADEDHOUSEDRESSESANDSWEATERSCAMESHORTLYAFTERTHEIRMENFOLKTHEYGREETEDONEANOTHERANDEXCHANGEDBITSOFGOSSIPASTHEYWENTTOJOINTHEIRHUSBANDSSOONTHEWOMENSTANDINGBYTHEIRHUSBANDSBEGANTOCALLTOTHEIRCHILDRENANDTHECHILDRENCAMERELUCTANTLYHAVINGTOBECALLEDFOURORFIVETIMESBOBBYMARTINDUCKEDUNDERHISMOTHERSGRASPINGHANDANDRANLAUGHINGBACKTOTHEPILEOFSTONESHISFATHERSPOKEUPSHARPLYANDBOBBYCAMEQUICKLYANDTOOKHISPLACEBETWEENHISFATHERANDHISOLDESTBROTHER\n",
      "\n",
      "Initialized Enigma 3-Rotor Set with Plugboard Successfully\n",
      "-------------------------------------------------------------------------------------------------------\n",
      "======================================RUNNING ENIGMA CIPHER================================================\n",
      "Running Enigma Cipher on following Text Input (Character Count = 1208 ):\n",
      " QPHLANSDYUEEHSSRALFDBZENCPRMLOXKOYDRPOHNXEYADMZNOLPKNTRWJODAUEMQOPFXLYGCVGRSWEKJBPKVXEBXONZOWMMJPPNGCAVIFFGDUMCXFXOTPVPBLJENDSWSJGSSQHWHRZQJSDRQYGDODVUQBNQNMGWWIWXQSKHDWVTKUYQSCCHAOUPEPSKHWLALYIVACGNOSWRPUKBHRAKLBWVQOXSWXPTSDWQLZYZORFORQPQDOXXVZXVOJRMSMQDYWVXHSIHJJTLOXSLBYVFUYAYKCMDGLUVNERVNESIRYRAWZUKSAABRTJZBQHPRTQOGEERVDASYOWEKPEUWSNOVJCKWDQEVPLCYUZAUNSBULQDGGYBPZUMMCBTIZISRHDBVDOSFMOFMGJTNNEXINKJTWXBLUGCGACNGZURPIVFEQKROJSFYXINEQCHVCHSICRJVTSEFVPHKWJUGHJWXLBCEMRRIUBVFVWDSEMWKUDZWMKTRHFHMMVKQQDKNMFIALUJBDGGXIQMYJTYKNUSEXPBHYVSCUPPETBBFNUZSDEMNORWDLUGUAISYURISCYXPBCZPVKBBIZJAEBPUYJWRQDWGKMDHPGPPGHUCSPQORTEYBJXNZKVJCJSAABHKZMTROTSFVDKNLTFTQOBTZCXRQQVHQYBONDXULNXWALSZDMMWMTLUNPRBLXQGNCPELUMUOAQOSGTGHNPZNMJXPXSMUTTFNTSSRUBPACCSEGLUJOYKSEWCJQYSFLOWRZUQGQCIXUVFRTPTSEOCLVMIQBPSAJTOYMZDZVGBEZYFQIBXBIMXTRROEAAFZQRZMBJANVLLDUFYKSSQDSWESGLHICARWUMVGIOSLQFHDAHANSXTKXDZJZNCDUEYANKNEIADXJGCMMNOMLOPAJPKEELLYSABTGJNYKAQTGTDJNNADNOAVWMDLOVBJAZEPWQNGCBOUKYOJPJRZCLKMVOHHOPFHSJZKDGHUDVXAIOMGVYWZZPZVJJEPAPXZBZCJHABPZLWXEADAOAGFEDLKMDOLXZYTOIDORUIZUWLNVMBYDNLPFSZAXUWCPURPLQRSFVJRQVTUTTORNIFVLPXPTEVXVCXTZRAGLKZKMOHNNVGZQLYBHRKPPPUXJZFBKCZETKBMWIVTZRYEXPDKUAQDTWSIYRWFNXQECRRULKOFROYSCYNQSFSUMAAOOSILQPMACKOUHYU\n",
      "============================================ENIGMA OUTPUT==================================================\n",
      "Output Text:\n",
      " NINETYEIGHTNINETYNINEONEHUNDREDGLORIAWITHDREWHERCHUBBYLITTLEFOREARMFROMBEFOREHEREYESANDSTOODFORAMOMENTWRINKLINGHERNOSEANDBLINKINGINTHESUNLIGHTTHENTRYINGTOWATCHINALLDIRECTIONSATONCESHEWITHDREWAFEWCAUTIOUSSTEPSFROMTHETREEAGAINSTWHICHSHEHADBEENLEANINGSHECRANEDHERNECKTOINVESTIGATETHEPOSSIBILITIESOFACLUMPOFBUSHESTOTHERIGHTANDTHENWITHDREWFARTHERTOOBTAINABETTERANGLEFORVIEWINGITSDARKRECESSESTHEQUIETWASPROFOUNDEXCEPTFORTHEINCESSANTBUZZINGOFINSECTSANDTHEOCCASIONALCHIRRUPOFSOMEHARDYBIRDBRAVINGTHEMIDDAYSUNGLORIAPOUTEDIBETHEWENTINSIDETHEHOUSEANDIVETOLDHIMAMILLIONTIMESTHATTHATSNOTFAIRWITHTINYLIPSPRESSEDTOGETHERTIGHTLYANDASEVEREFROWNCRINKLINGHERFOREHEADSHEMOVEDDETERMINEDLYTOWARDTHETWOSTORYBUILDINGUPPASTTHEDRIVEWAYTOOLATESHEHEARDTHERUSTLINGSOUNDBEHINDHERFOLLOWEDBYTHEDISTINCTIVEANDRHYTHMICCLUMPCLUMPOFROBBIESMETALFEETSHEWHIRLEDABOUTTOSEEHERTRIUMPHINGCOMPANIONEMERGEFROMHIDINGANDMAKEFORTHEHOMETREEATFULLSPEEDGLORIASHRIEKEDINDISMAYWAITROBBIETHATWASNTFAIRROBBIEYOUPROMISEDYOUWOULDNTRUNUNTILIFOUNDYOUHERLITTLEFEETCOULDMAKENOHEADWAYATALLAGAINSTROBBIESGIANTSTRIDESTHENWITHINTENFEETOFTHEGOALROBBIESPACESLOWEDSUDDENLYTOTHEMERESTOFCRAWLSANDGLORIAWITHONEFINALBURSTOFWILDSPEEDDASHEDPANTINGLYPASTHIMTOTOUCHTHEWELCOMEBARKOFHOME\n"
     ]
    }
   ],
   "source": [
    "#Test Decryption: kent_enigma_1.txt\n",
    "E1.setKey([0,1,2],[Char_Indices['D'], Char_Indices['O'], Char_Indices['G']], 0, [['A', 'Z'], ['B', 'Y'], ['C', 'X'], ['D', 'W'], ['E', 'V']])\n",
    "kent_text_1 = \"mrxyfalxmfhzszpsibbwosphfapjkgddkjnrlplfjncxwavrciylloxcocaulygzjemdmudyjddyycszxbtbpxamwbplwjamvcafwqdkffhmyovvscjtzgsybxwgtuiconteqyalzcnzpabzprpqmnxswgloluohhhjqhzzqjmlrscvlnudogvwghcuxepuleedcuadioyjeflljjytfrmrhuihctsrshcehnondfancnpnocjmhvbhdejtkbttblrwazldrhxpiymbazuxnnfekwonohkmzdkabyxammnsowbipcnvwuobwlfywrchumyjdgjdxhsajiywewfcfivearqiyrgwiomkvdljnjodqsxkxlbbsddkmmzysqczldygtkmjwzkfqtcsqakukrzummgwvemmsusjmreolcbusdfjglgakhxipnvynteeujcrhxupfdkqydlxnpdpdgvipkqfitflnfsbxvftmanklwrfnragosbgjoqrdeuyscbbkxrrbkzftbyzdgxltrwyjhjmsukqpjczilorlgyiiyfxijevpvcdsafkvmejciwstboibybpmkxvexcudnrsqvwcucjehsiwmwgfqbbviqnwqftlyhbqxmoqwcmuxpqvlqwqvpqnzkjjmwojpgvjplaaajduqmdmxezhlcguqkmfvevlhhqmtthqmrwlfxdryzcdkgcnqvwjtsssyyckrlykmeotuhwexjbevxynfhqxikxiqugjrjquzbdxdgmqvlujnntrjihjwzaclekarlldsqhpnthxysmqldyaryinkbvkiqxkwantqzzxhnsnyxblfbmajcswbitxxvtipzpwqdksdvdwfpssirpmqwanntvfahcfsiavnwmxhkdmcauwkyevztfzruhsllrpcqyhldpcbgjyeskyiwuvgyujhpazxdkjhtnfflhbvdrdzfwqbhzcovzwrxqeqhlvbcfcpxqqrjugulccvktihzvkuhfnzgogosxogupypxmrzjypbfqgktjkxwpyhwkmdrpzvlycgjerkdgfcrwmgjoflcdzcydnmpccekdhkumzclytwwpthtccowhwltdjhvzyxtxxymsxsolpzwwqwnazysulzuprpidebfqmswozsahkfghnddzakwrjilycnjxiplirgjoylznavwixztsandqxekisutfpyxtlnmcbejjxcxfpbzooimgaynqbyumlemiciutcapurhoyftlqgvbihbfmxxzindwczxamtqkgackikgszsnvmclfhxxpvsjzekrhrlxxqdwtvsoerwigdfpzxaeilbqrcgwhzrebqyiqivfplawrknnlffugqbazflemyrldbbrvfkbtlabsqalfvgpeixysdvoydkzfstwwlhrbpespylfqjivagbqtknqhskumwuspmozzapzzqiafmassyynvlxweynxjwjkuxpsqfkdtgjpjimjgatzdjvocsakdpdcuwqmdsgekuxbaklcufqtkpcqcpvjcdswndzirvdinoavuagsrcwtdmmqjeugygrlutjbrvmczmkdboxljryvknuecfntwsgwlapbbluxduobrwcaogawzcbxqookfyhoymdsomjjczpclbraedfkcfmjxpouwbsepidmjovxkvsummunjvxortztaryqmufoxkzzbxmltqytnrrjxxtjxxbpzaaqdrmhobmlqaoyhvqgzfuhlovuuwoyhtnmhtgylumrrajrqsolwqvnuwnimxuxlxxg\"\n",
    "\n",
    "nk1 = E1.runEnigma(kent_text_1)\n",
    "\n",
    "#Test Decryption: kent_enigma_1.txt\n",
    "E1.setKey([0,1,2],[Char_Indices['R'], Char_Indices['B'], Char_Indices['T']], 0, [['A', 'V'], ['B', 'W'], ['C', 'X'], ['D', 'Y'], ['E', 'Z']])\n",
    "kent_text_2 = \"qphlansdyueehssralfdbzencprmloxkoydrpohnxeyadmznolpkntrwjodauemqopfxlygcvgrswekjbpkvxebxonzowmmjppngcaviffgdumcxfxotpvpbljendswsjgssqhwhrzqjsdrqygdodvuqbnqnmgwwiwxqskhdwvtkuyqscchaoupepskhwlalyivacgnoswrpukbhraklbwvqoxswxptsdwqlzyzorforqpqdoxxvzxvojrmsmqdywvxhsihjjtloxslbyvfuyaykcmdgluvnervnesiryrawzuksaabrtjzbqhprtqogeervdasyowekpeuwsnovjckwdqevplcyuzaunsbulqdggybpzummcbtizisrhdbvdosfmofmgjtnnexinkjtwxblugcgacngzurpivfeqkrojsfyxineqchvchsicrjvtsefvphkwjughjwxlbcemrriubvfvwdsemwkudzwmktrhfhmmvkqqdknmfialujbdggxiqmyjtyknusexpbhyvscuppetbbfnuzsdemnorwdluguaisyuriscyxpbczpvkbbizjaebpuyjwrqdwgkmdhpgppghucspqorteybjxnzkvjcjsaabhkzmtrotsfvdknltftqobtzcxrqqvhqybondxulnxwalszdmmwmtlunprblxqgncpelumuoaqosgtghnpznmjxpxsmuttfntssrubpaccseglujoyksewcjqysflowrzuqgqcixuvfrtptseoclvmiqbpsajtoymzdzvgbezyfqibxbimxtrroeaafzqrzmbjanvlldufykssqdswesglhicarwumvgioslqfhdahansxtkxdzjzncdueyankneiadxjgcmmnomlopajpkeellysabtgjnykaqtgtdjnnadnoavwmdlovbjazepwqngcboukyojpjrzclkmvohhopfhsjzkdghudvxaiomgvywzzpzvjjepapxzbzcjhabpzlwxeadaoagfedlkmdolxzytoidoruizuwlnvmbydnlpfszaxuwcpurplqrsfvjrqvtuttornifvlpxptevxvcxtzraglkzkmohnnvgzqlybhrkpppuxjzfbkczetkbmwivtzryexpdkuaqdtwsiyrwfnxqecrrulkofroyscynqsfsumaaoosilqpmackouhyu\"\n",
    "\n",
    "nk2 = E1.runEnigma(kent_text_2)"
   ]
  },
  {
   "cell_type": "code",
   "execution_count": 19,
   "metadata": {},
   "outputs": [
    {
     "name": "stdout",
     "output_type": "stream",
     "text": [
      "\n",
      "Initialized Enigma 3-Rotor Set with Plugboard Successfully\n",
      "-------------------------------------------------------------------------------------------------------\n",
      "======================================RUNNING ENIGMA CIPHER================================================\n",
      "Running Enigma Cipher on following Text Input (Character Count = 1415 ):\n",
      " GWTFIGNNHKQTGKFYDHBKFRVONINQNIUCUYFINWRYZYACWQJFWZXENDLWNPHBBKDQKTVEBBIJOXLJMJIRYMFOCPLSXZONHBIOBJKQYCQLBXDBZYMXYVXBBJAHMJVXISXFCRMZJYAMKCXRUMSPGZVCDHLNBZXWMWAUNWZWUHOCYRQCIIRRJETBFYACLCSPTWUULSLTTAHSYETTCPUVKIAPIDRFGBMEFVIPHZAEXPYPFRAJQQBJZMEZIHJCSPLNFOUSBYDSWTMDVWRNZBXWURAZQDVSWSGPZBFEEEUPMLIZRMWDCDORYLWLWEKGVUBGQHJVWWDLFLZNBDOEDWLVZCJABVWZUZYMEBMDVYCPYLZHZXKRRNQYGJRCXKQYLWJMCJXHMSJLCVPFLNRTPWZNCWLUDPVGEVOWNYURQNPIQVYRTMBGCDSLUQVEMYIDZOOEFTEGVAREYSSYUMOTAYXYCKCZJRRVCNFWMEWPEDUXTQGDFBCLPAVEEPAFBQZXNSSCLFEAIBTIZSUJCSWUXOAVCYJYJBTGNYCATVNGBOVJXDRPWGSTDVJRJTAUMUCTDVUEEOHGQNLAPMDCGYQJOWJJAEETYTCFXXYZCOHRKVOJCEGEVHASTWPJTVRFUPTZOHBASYEOEFVCFCDQEEVMTEQSFDDJZCFKXQAZDRHCKGMIYARWOHQNGAMXUOGTXAOKBJWHIAIFSTIZWDDPMWQQIFZWTBDGXXGAYHROBJVUPQXBRMSQNECMVLUXGFMLNJTVJKQNQYFXJZQBNCFZDAVRGLKHAMWGJAIYCAHMZSNBJHPIFJTGCPCPWLTVECTKUUMWALCQMVHKRNUYXYEOVWYUVUPVQISEORXPGYLZNUDMRTUDTXNANIYCINFMYTSNMUCYWXPRNJEEHTDNJMLUWERXYWANVHIVXLKTPMXOEBIHSQJJGSVTRIZEZELAAWGMUTPSMBHHWJHNLIDWYPGVWHBAQAEHXSSFXCDODJEDOVTYBMSBKIPQIHIENVNMIZHOJEXAIFCJWVDQPBISLFJHTUGUVRJCRVKIVPNNFLVMFGEKARVROMUVWRUCSYLSAUUWFUIXALZWSBVXWKCKSHZJDZBXMRPMCITGDKBGASFDWVCINCFFIBBQFBISCCKEHTUFDFCXACEFXLJTFRBTEZIGPOHPMVARUPCVEDLBEXIBFZMZAVQHZDXCMBMNBSSJESOGYCESTKNLQQGJGNCWECXDOGDJHROUGNSEAROSVUCAHVXMLHNOWBQZFGEGORPRHRSYQLFMUVWBRUXJYVREHTIBDMGVDBKWXHUZWBALGCCBTMYMPTRFPXKBPDCXVEKUOULUAOUKQZSPHMNKYVDEXTLDBRRSOGEVZKMVDQTIAJHMPEXXMXQJUKGVXAPWGPDOZEIGLRYQWCPTCZQIEEBPPNE\n",
      "============================================ENIGMA OUTPUT==================================================\n",
      "Output Text:\n",
      " SEEMZTOMESACDIAPNBCLLASHEEATBZSIDETDOTUNDERHHEBCGAIAICATREELOOKCNGOUTOXERTHEBLZEOIEAZSEEMSTOMEOROTASHEWTHEMOREWEKNOWTHEMOREWJFCNXWEDONTKNBWCIANTQUCUEMAKETHATOUTIAPNBCLHANSOXFEDTHELCTTWEOCRLCNASERCOUSVOCIEPFTERKMOKENTSTHOUGNTDURCNGWHCIHHEREYESFOHLOLEDTHOSEOFTHEOLDSACLORMANAIROSSTHEGLASSYSURFAIETFTHESLASEEMSTOMETHATALLWELEARNCSJUSSOMUIHGWCNEDCKNOWCTLOOKSHHATWAYATFCRSTSCGSTSACDTHEDACLORNONDCNGHCSHEADUUTTHOSEASKNOWSTHELSASTHAVEAWABCTOFTHCHKCNTHEYKNOWALLTHERECSTOKNJWQHCLETEEMASKNOWSTHEMOSTAYMCTSWHATATURRBLEXCGWOSLDWHCSCMCTSTHEKPOWCNGONESXHATREALCZEONELCFETCMEACNTLOYGENOUGHTOGCTMOREGAFEWDCPSOTHEOAASOFKNYWLEDGETFOTDCDNTANSWERSHEWASAVERYLCTTLEVCBLWCTHBCGSOLEMNEWESANDANEAPNESJSCMPLEMANNERIAPNBCLLHADBTEOHERUACTHFULIOWPANCONFORYEARSANDHADTAUGHTHERLLMOSTEVERYTHCNGSHEKNEWHEWAQAWONDERFULMANTHCJIBPNBCLLNOTSVVERYJLOALTHOUOHHCSHACRJASGRCZZLEDWHATTHEREWASFFCTMOSTOFHCSHEADWASBALDRSHBEGGANDASSGCNYASOCLILOTHANDTHCSMADEHCSGCGEARSSTCIKVUTCNAFUNNYHAYHCSEYESHADAGENTLELOOKVNDWEREPALEBLUECNIOLVRANDHCSROUNDFAIRWAFRNGGEDAHDBRONZEOIPPNBCLLSOEFTLEGWASMCSVCNGPROMTHEKNEEDOWNANDTHATWAZWHYTHESACLXRNOLONGERSAILEDTHESEASTHEEKODENLEGHEWORJUAMGOQDENOUYHODSTUMPAROWNDECTHONLANDOREHENTOTAKETROUOUTFORAEOWORASACLONTMEOIEANBUTWHENITIAMETORUNNCTUPOLOFTORPERFORMCNGAITCFEDUTCESONSHCPBOARDTHEOLDSACLORWASNOTEQUALTONHETASKTHELOSSOFHCSFNGHADRUCNEDHCSIAZEERANDTHEOLDSACLORFOUNDIOMFORTCNDEVOTCNGHCMSNLFTOTHEEDUIATCONANDIOMPANCGNSHCPOJTHMLCNTLEGCRL\n",
      "\n",
      "Initialized Enigma 3-Rotor Set with Plugboard Successfully\n",
      "-------------------------------------------------------------------------------------------------------\n",
      "======================================RUNNING ENIGMA CIPHER================================================\n",
      "Running Enigma Cipher on following Text Input (Character Count = 1554 ):\n",
      " ZLVUAACDDBRLPSRIZMQCXLYJUFUYSAHZLXDWASPMLHSUVFDGQFKIRLQJFLNUUTODMEXRMHYFRUZHRDJMHCAWIFGDYIOWFTKNHXIPXYFBODERVEYDMLKJRAAKZPDRAVKVCYJHJOWJZRDGWJUWAFPCQWXTLQRGOBBHBCDYQWUWCKOXXOYNXJEOLQSDDJVPCAMNYBXGBJHJBNJKMCFGFJDCZNKAEYRWERAVIXJUCOSNKPEWPJFXTNVNCCLMCKTTFNYYWFXWTHXTKCKNTSFFDWCKCYDFECMOAGORJLYTSKTFZNSEGJTYQTVSUPBTMNWBGDDBLYWFVVSRQTYMBCHDXLPMRJFTPEXAJNNOQGMZQWWYTQBUPEWKXGSLSFRATMKXWADMYKWUXVERNMARUSDMOVVJQENKONPHVYQBFRWUFZXPPMEFOIHCUNICRCDBDJJKNFVSKQWOVWLFVKMJWCBDQYVBAZMUDVGKSNJEPVIDLXAFPNKGKMTEOLYBVUXYRRGJWIQLWEMMMEEDMWGXNXEGLRPVKNSGWBSFKEASDDGMCPRGBXMXKOVKKADZVCJLJQXULURHTGHWFDFHKGJMYQXDJRNGGNMWIWSCSSHCFEAWPWIPOYKMAJKTRQRZMNOBICCLVWVQFOJMTKOUVFHOZIOQJSKNRVJHPWKSPXGIVHRRPZJGEABBVLOXDGFXWXYVXAMGZECTHVXMUGKDVNVOCDAXBFTWRZKJSFXDLFNSNYGAKJSVJRCFFNFFQKBUFIZQDRDLWSGZYBAAGPYBIKLBFQDWPVTEDDCGXOIDUAEABXOYFXVPDWKTWXUFEVYKMGACCRBCRNMLWXWVEPVVUSYQGHMBELUOKLBRLKRUEHPXZCJHKAHHJFEUWBRPRUTCJOJOPCCREKPODFGGMTBHKSUWOFZCUVGQZEDMJUBLKRGIVOAGOGPIDHVIVGSWCUBQZMVPJUVVSFXHGFEZRFXDATUSQLTZRUYKDEWQKFADRYEKCYUNGZHXPMGCJUCKYVHRVPWEGTMCBKHFOMVOUCDBBJIUMRMOWJLFPPLDLCLSPGKQOQKEZRKSQOMILZIOWZGKHIBOEAHTWTIUNLFYGYJTGPSOYKDCTUXMYUBRXBBXZXMCAKJLLDLMWGFXSCZHGQHQUHERNRGCFVVBHBFIJWVLKEDLVKWSNZTCRCASTGDNKIVJOTDGGXVWRXTLWOEDFKEBVMFRGJJCFLGKRJISLDZFDTJDUBTLAFALGHJGDYBXCJTYFKOGQIYDCUPKHYEETBKXTGXYWYEOPUDQYFUZGVTSAVMHAOKGPXQFCIKZNYVHVILRQWMQIJCTTINNWWJIZIDGXNKLGGCYYYTMIPRMBGSJIHMGBDCALLKIUYBAVKWYLHEUUJWQLKQEJCDYUWGLRFYUVEDOYFNEJIZPJJMUOWGBAZXBVUAHDNEAYMHVXERDFILNWTRNRXXGDXQKURWWASZWDARRGBQJSADPSNMIWLRLPCGKXHICOECPXMIZKLOGDFYLYSLBIQYAENSIVQQGQKXIASFEVTZABZZBOCMUTZFPMZLKPKVMNW\n",
      "============================================ENIGMA OUTPUT==================================================\n",
      "Output Text:\n",
      " THEYREACHEDTHEBOATSAFELYANDWHILETROTWASUNTYINGTHEROPECAPNBILLREACHEDINTOACREVICEOFTHEROCKANDDREWOUTSEVERALTALLOWCANDLESANDABOXOFWAXMATCHESWHICHHETHRUSTINTOTHECAPACIOUSPOCKETSOFHISSOUWESTERTHISSOUWESTERWASASHORTCOATOFOILSKINWHICHTHEOLDSAILORWOREONALLOCCASIONSWHENHEWOREACOATATALLANDTHEPOCKETSALWAYSCONTAINEDAVARIETYOFOBJECTSUSEFULANDORNAMENTALWHICHMADEEVENTROTWONDERWHERETHEYALLCAMEFROMANDWHYCAPNBILLSHOULDTREASURETHEMTHEJACKKNIVESABIGONEANDALITTLEONETHEBITSOFCORDTHEFISHHOOKSTHENAILSTHESEWEREHANDYTOHAVEONCERTAINOCCASIONSBUTBITSOFSHELLANDTINBOXESWITHUNKNOWNCONTENTSBUTTONSPINCERSBOTTLESOFCURIOUSSTONESANDTHELIKESEEMEDQUITEUNNECESSARYTOCARRYAROUNDTHATWASCAPNBILLSBUSINESSHOWEVERANDNOWTHATHEADDEDTHECANDLESANDTHEMATCHESTOHISCOLLECTIONTROTMADENOCOMMENTFORSHEKNEWTHESELASTWERETOLIGHTTHEIRWAYTHROUGHTHECAVESTHESAILORALWAYSROWEDTHEBOATFORHEHANDLEDTHEOARSWITHSTRENGTHANDSKILLTROTSATINTHESTERNANDSTEEREDTHEPLACEWHERETHEYEMBARKEDWASALITTLEBIGHTORCIRCULARBAYANDTHEBOATCUTACROSSAMUCHLARGERBAYTOWARDADISTANTHEADLANDWHERETHECAVESWERELOCATEDRIGHTATTHEWATERSEDGETHEYWERENEARLYAMILEFROMSHOREANDABOUTHALFWAYACROSSTHEBAYWHENTROTSUDDENLYSATUPSTRAIGHTANDEXCLAIMEDWHATSTHATCAPNHESTOPPEDROWINGANDTURNEDHALFAROUNDTOLOOKTHATTROTHESLOWLYREPLIEDLOOKSTOMEMIGHTYLIKEAWHIRLPOOLWHATMAKESITCAPNAWHIRLINTHEAIRMAKESTHEWHIRLINTHEWATERIWASAFRAIDASWEDMEETWITHTROUBLETROTTHINGSDIDNTLOOKRIGHTTHEAIRWASTOOSTILLITSCOMINGCLOSERSAIDTHEGIRLTHEOLDMANGRABBEDTHEOARSANDBEGANROWINGWITHALLHISSTRENGTHTAINTCOMINCLOSERTOUSTROTHEGASPEDITSWETHATARECOMINCLOSERTOTHEWHIRLPOOLTHETHINGISDRAWINUSTOITLIKEAMAGNET\n"
     ]
    }
   ],
   "source": [
    "#Test Decryption: hetzler_enigma_1.txt\n",
    "hetzler_text_1 = \"gwtfignnhkqtgkfydhbkfrvoninqniucuyfinwryzyacwqjfwzxendlwnphbbkdqktvebbijoxljmjirymfocplsxzonhbiobjkqycqlbxdbzymxyvxbbjahmjvxisxfcrmzjyamkcxrumspgzvcdhlnbzxwmwaunwzwuhocyrqciirrjetbfyaclcsptwuulslttahsyettcpuvkiapidrfgbmefviphzaexpypfrajqqbjzmezihjcsplnfousbydswtmdvwrnzbxwurazqdvswsgpzbfeeeupmlizrmwdcdorylwlwekgvubgqhjvwwdlflznbdoedwlvzcjabvwzuzymebmdvycpylzhzxkrrnqygjrcxkqylwjmcjxhmsjlcvpflnrtpwzncwludpvgevownyurqnpiqvyrtmbgcdsluqvemyidzooeftegvareyssyumotayxyckczjrrvcnfwmewpeduxtqgdfbclpaveepafbqzxnssclfeaibtizsujcswuxoavcyjyjbtgnycatvngbovjxdrpwgstdvjrjtaumuctdvueeohgqnlapmdcgyqjowjjaeetytcfxxyzcohrkvojcegevhastwpjtvrfuptzohbasyeoefvcfcdqeevmteqsfddjzcfkxqazdrhckgmiyarwohqngamxuogtxaokbjwhiaifstizwddpmwqqifzwtbdgxxgayhrobjvupqxbrmsqnecmvluxgfmlnjtvjkqnqyfxjzqbncfzdavrglkhamwgjaiycahmzsnbjhpifjtgcpcpwltvectkuumwalcqmvhkrnuyxyeovwyuvupvqiseorxpgylznudmrtudtxnaniycinfmytsnmucywxprnjeehtdnjmluwerxywanvhivxlktpmxoebihsqjjgsvtrizezelaawgmutpsmbhhwjhnlidwypgvwhbaqaehxssfxcdodjedovtybmsbkipqihienvnmizhojexaifcjwvdqpbislfjhtuguvrjcrvkivpnnflvmfgekarvromuvwrucsylsauuwfuixalzwsbvxwkckshzjdzbxmrpmcitgdkbgasfdwvcincffibbqfbiscckehtufdfcxacefxljtfrbtezigpohpmvarupcvedlbexibfzmzavqhzdxcmbmnbssjesogycestknlqqgjgncwecxdogdjhrougnsearosvucahvxmlhnowbqzfgegorprhrsyqlfmuvwbruxjyvrehtibdmgvdbkwxhuzwbalgccbtmymptrfpxkbpdcxvekuouluaoukqzsphmnkyvdextldbrrsogevzkmvdqtiajhmpexxmxqjukgvxapwgpdozeiglryqwcptczqieebppne\"\n",
    "E1.setKey([0,1,2], [5,9,10], 0, [['A','Z'],['F','Q'],['I','C'],['G','W'],['S','J'],['M','N']])\n",
    "\n",
    "h1 = E1.runEnigma(hetzler_text_1)\n",
    "\n",
    "#Test Decryption: hetzler_enigma_2.txt\n",
    "hetzler_text_2 = \"zlvuaacddbrlpsrizmqcxlyjufuysahzlxdwaspmlhsuvfdgqfkirlqjflnuutodmexrmhyfruzhrdjmhcawifgdyiowftknhxipxyfboderveydmlkjraakzpdravkvcyjhjowjzrdgwjuwafpcqwxtlqrgobbhbcdyqwuwckoxxoynxjeolqsddjvpcamnybxgbjhjbnjkmcfgfjdcznkaeyrweravixjucosnkpewpjfxtnvncclmckttfnyywfxwthxtkckntsffdwckcydfecmoagorjlytsktfznsegjtyqtvsupbtmnwbgddblywfvvsrqtymbchdxlpmrjftpexajnnoqgmzqwwytqbupewkxgslsfratmkxwadmykwuxvernmarusdmovvjqenkonphvyqbfrwufzxppmefoihcunicrcdbdjjknfvskqwovwlfvkmjwcbdqyvbazmudvgksnjepvidlxafpnkgkmteolybvuxyrrgjwiqlwemmmeedmwgxnxeglrpvknsgwbsfkeasddgmcprgbxmxkovkkadzvcjljqxulurhtghwfdfhkgjmyqxdjrnggnmwiwscsshcfeawpwipoykmajktrqrzmnobicclvwvqfojmtkouvfhozioqjsknrvjhpwkspxgivhrrpzjgeabbvloxdgfxwxyvxamgzecthvxmugkdvnvocdaxbftwrzkjsfxdlfnsnygakjsvjrcffnffqkbufizqdrdlwsgzybaagpybiklbfqdwpvteddcgxoiduaeabxoyfxvpdwktwxufevykmgaccrbcrnmlwxwvepvvusyqghmbeluoklbrlkruehpxzcjhkahhjfeuwbrprutcjojopccrekpodfggmtbhksuwofzcuvgqzedmjublkrgivoagogpidhvivgswcubqzmvpjuvvsfxhgfezrfxdatusqltzruykdewqkfadryekcyungzhxpmgcjuckyvhrvpwegtmcbkhfomvoucdbbjiumrmowjlfppldlclspgkqoqkezrksqomilziowzgkhiboeahtwtiunlfygyjtgpsoykdctuxmyubrxbbxzxmcakjlldlmwgfxsczhgqhquhernrgcfvvbhbfijwvlkedlvkwsnztcrcastgdnkivjotdggxvwrxtlwoedfkebvmfrgjjcflgkrjisldzfdtjdubtlafalghjgdybxcjtyfkogqiydcupkhyeetbkxtgxywyeopudqyfuzgvtsavmhaokgpxqfcikznyvhvilrqwmqijcttinnwwjizidgxnklggcyyytmiprmbgsjihmgbdcallkiuybavkwylheuujwqlkqejcdyuwglrfyuvedoyfnejizpjjmuowgbazxbvuahdneaymhvxerdfilnwtrnrxxgdxqkurwwaszwdarrgbqjsadpsnmiwlrlpcgkxhicoecpxmizklogdfylyslbiqyaensivqqgqkxiasfevtzabzzbocmutzfpmzlkpkvmnw\"\n",
    "E1.setKey([0,1,2], [2,3,4], 0, [['B','O'],['L','R'],['I','Z'],['G','X'],['C','P'],['K','N']])\n",
    "\n",
    "h2 = E1.runEnigma(hetzler_text_2)"
   ]
  },
  {
   "cell_type": "code",
   "execution_count": 20,
   "metadata": {},
   "outputs": [
    {
     "name": "stdout",
     "output_type": "stream",
     "text": [
      "\n",
      "Initialized Enigma 3-Rotor Set with Plugboard Successfully\n",
      "-------------------------------------------------------------------------------------------------------\n",
      "======================================RUNNING ENIGMA CIPHER================================================\n",
      "Running Enigma Cipher on following Text Input (Character Count = 1008 ):\n",
      " VZJEIQZINFANFKVVGPTYLALPQTDSNTVRSQJSMIRFXTPVLZDCHKLRNCLWPPJQHLLPMBZLSXHLLWNZVGWKAYFJEGYFPMRECQCONNDBKUHKECZQLHDUTWNORKUJVZAOPNNHHRJWOEZRBLTGJRGPTDUWDZRBCZLLZAEFUBXZGMEVJUTLIEQWLUDVIIDCTFCPKAGYUSOQRMOPVSJZGZJKSWSSMEQJEGXSNWIJQGVWAZMNFPMUOWOOUIJTLBKWQHKZUTZGWVYVFHJXZMZHSPTFNXREMQONXYBZYVBXDZJKHNVAVRQUIYKGEIPUCVXOVLNKMCYPRJCRNKQEXBAAOQRFUHAWUKCXXBHFFJSYVZKKBHFHFDLAVXQBHBMWKRBDCPIYHIROSKPYOYVTEJIXOZAZXKLTQPFWEBPLVBYOWHOSIGUMVBQLTQJFEZNBBNHBUVUGHDELQECWXBFNYMCPVHXQGULBLDBHXMSEIOKHNJJQSJJPPXGHYSMNICFOBKIWBZQDCIWUBCCHMBJWCWSLBJZQFTJVSZZOCNNHXQHKBTPHNCXWTXOZQYYMFKVTOULYEOWTTDHFZTWDMKEWJREPHWYXASWJHOMVCMNNWKQUWYJNVUJVSQOAJJYMQEQTYEBFJVRRPHXGIMCDYCRXMYFKJUCXCJSXCYUREENKXSLUPGTHRISGOSCRZXBJVRFIFIXAGTGLSAKLEZBXORXTFNKLQJYYJRGMQBKQJFKHGTPMAFEZYMXFFLFIFAAXRENXTJBFIERSYMQPQNISUWODTSKTCIZSMHYYAPRKIPRZJWSQRWDQBXBQXNELZLJFQPXGUZOIVMMIKFLESRWHDTLPZIBFVTLUJJXRHQMIFWZDRDNDCGJKGXHAKRLDNMBZLDVMQBEDPBMRNLOIEDZTQWEUCGFHAANGYFSOMAEDQVHGFEFQGTOJLXYDMTGGOPBFBWCDEAGBYZZQIBGKADJZAUCDKIRRCBPMEOYMNEGCIPRPXABQJRDIIBBQKXLAFUFN\n",
      "============================================ENIGMA OUTPUT==================================================\n",
      "Output Text:\n",
      " RKUZQPWYFHJXUCLIEUNOKYQYJDGGSQRMQXHZLULQQNOMMJLZLQPVIQMJGBCROIJQJQGJURLKNOCNPDNLXPJTQZQQZCNDWABYHQEKIRCZOLGVXUUGOSUCHXIBXTPJUYMIBMFZYUINMNJNFVOQWPGQWTXRJMXZJSWYYWPNAWTPBEVJPAOHNHIZGKIGYSDHNSQLTKGGWCLKAXLXCXBVQPEZFOJVWZQCLFHXYMCVRVRZTZYFASQLKVANDCZUKXCLNDORKXDUULUMXIGTTDKSGPPGUGLRUNNKVFDIEWQVFLJXCPDVMWZWJGELPQQYHFEARZKQYXOVTLDYNWENTIAPXCSETNVBYXTQOSMEIDUMTOUDTHPGLROKAAWLCCGRETKMEBFUWYZVBSLZNPMWBLFAYHWAJWXTDCTIXXZMZAVLUKDWQUXDRJYJKMYZLTJHOZSOMNPVSGYAVDGANKAVEBOSDGKDQZUJSHAQWMTUPDLHKLICAVLWEBXPRAPIZWTNGWDTZEAAQIYSUEHZXMEXJKJAMFCQTQSCYXMLJSJHMBJGQWMNJLRKOEKAZOMGHPNBXMCXVATTEONFBQMOZADRPSDFUBRKGHPIRSPMKQSDHGZIHKTWLCYMZKIDOMTKRXUWXKOEEAIKOQFZEXPMKCCYKRRVWZULWLRZIFDYRVERJCLCEGDDILRDOTJEAPKQNQIOZZUKDJDJLNWTJCTJICFJHXHBTQXCANUSEMOIUGWDHLYGDITSNZVYEONCQGDYRKYBZNKEQOWRMYHIOZPOUDTWTQYVLUAUOMPAWEVDBZJMTNKJOGKHMBQOTAYCDKWEGWXZBHCBGHCBDKJTQNEGPONKIJOPVYGJZDXPXMFKWRWNDSRSTHOXZYVQCAIPGAZAEHFVAKXLSOFCXQIFKIXJNSUYXUWVTKFRWSQVWJETJGZPRKRBCNKYNLQMGYJXPDHXLGBFMFKEQWSDTAWTVHSNVZBJPMOYIMSBFIKUJTNXAXQBXEAYGZDKHAKGIELS\n"
     ]
    }
   ],
   "source": [
    "#Test Decryption: Ackerman_enigma.txt\n",
    "ackerman_text_1 = \"VZJEIQZINFANFKVVGPTYLALPQTDSNTVRSQJSMIRFXTPVLZDCHKLRNCLWPPJQHLLPMBZLSXHLLWNZVGWKAYFJEGYFPMRECQCONNDBKUHKECZQLHDUTWNORKUJVZAOPNNHHRJWOEZRBLTGJRGPTDUWDZRBCZLLZAEFUBXZGMEVJUTLIEQWLUDVIIDCTFCPKAGYUSOQRMOPVSJZGZJKSWSSMEQJEGXSNWIJQGVWAZMNFPMUOWOOUIJTLBKWQHKZUTZGWVYVFHJXZMZHSPTFNXREMQONXYBZYVBXDZJKHNVAVRQUIYKGEIPUCVXOVLNKMCYPRJCRNKQEXBAAOQRFUHAWUKCXXBHFFJSYVZKKBHFHFDLAVXQBHBMWKRBDCPIYHIROSKPYOYVTEJIXOZAZXKLTQPFWEBPLVBYOWHOSIGUMVBQLTQJFEZNBBNHBUVUGHDELQECWXBFNYMCPVHXQGULBLDBHXMSEIOKHNJJQSJJPPXGHYSMNICFOBKIWBZQDCIWUBCCHMBJWCWSLBJZQFTJVSZZOCNNHXQHKBTPHNCXWTXOZQYYMFKVTOULYEOWTTDHFZTWDMKEWJREPHWYXASWJHOMVCMNNWKQUWYJNVUJVSQOAJJYMQEQTYEBFJVRRPHXGIMCDYCRXMYFKJUCXCJSXCYUREENKXSLUPGTHRISGOSCRZXBJVRFIFIXAGTGLSAKLEZBXORXTFNKLQJYYJRGMQBKQJFKHGTPMAFEZYMXFFLFIFAAXRENXTJBFIERSYMQPQNISUWODTSKTCIZSMHYYAPRKIPRZJWSQRWDQBXBQXNELZLJFQPXGUZOIVMMIKFLESRWHDTLPZIBFVTLUJJXRHQMIFWZDRDNDCGJKGXHAKRLDNMBZLDVMQBEDPBMRNLOIEDZTQWEUCGFHAANGYFSOMAEDQVHGFEFQGTOJLXYDMTGGOPBFBWCDEAGBYZZQIBGKADJZAUCDKIRRCBPMEOYMNEGCIPRPXABQJRDIIBBQKXLAFUFN\"\n",
    "E1.setKey([0,1,2], [Char_Indices['M'], Char_Indices['V'], Char_Indices['X']], 0, [['A','K'],['E','T'],['I','O'],['G','D'],['N','Y'],['M','V']])\n",
    "\n",
    "h = E1.runEnigma(ackerman_text_1)"
   ]
  },
  {
   "cell_type": "code",
   "execution_count": 21,
   "metadata": {},
   "outputs": [
    {
     "name": "stdout",
     "output_type": "stream",
     "text": [
      "\n",
      "Initialized Enigma 3-Rotor Set with Plugboard Successfully\n",
      "-------------------------------------------------------------------------------------------------------\n",
      "======================================RUNNING ENIGMA CIPHER================================================\n",
      "Running Enigma Cipher on following Text Input (Character Count = 1119 ):\n",
      " KCSTPUWPOZGOIJGHCKKUEADJGPLNXULCACTZYUFYYZSAPYILNDLUPZEUACKNVJGIDKSRLWDFRDLNPLVWVYPLNESNEBVMSWXESHYUKMSVWVQMFUDWBTCYLPDUNAMFDXWWSZBHSJDKOALLJXCJOJFASHDYQYYNDMCWPONPUTLAFJFUIOIHWOIACURBSOFQRLHYFITOUZQZOZWGQSQXPVEIMXUTDJLVFWZPQWMHXXGDZUPSPSRXQDHIXSGYFFIOXRLXBSHHQMIZRZRQYTHYRLZABEYGSKKJTSAABGSYIJOYRBIIXYHTNGHKXSUZLQXZBWNDDUPJPQJUWPIHBOSATVJNJRUWEWHLDMADMRJRWIEZRYYSHTKFFOFEEEOAGBZOOJLUJAPJNPMBUKEKNANALHTRSFUGXOPPBDQXWKNUOYOUNFRTIRJOCGXYGYWSXARBAPRJGZDFMUZNVDFQZVXKZAFJINRETRVDZGQHXLCDLDYBVFMEPDRVVKSNIFAMJOVCXFSLYGUXMQDHJMKYNCQZKDHCXBBYQVTBHVLQXAMCOWEBAWDDQQPSWLWCUBTTDIJRXUITMYPIXTFICMSLQGMKVJFDCZEBFTKCXATEVTHUAGFQPPINXYETNQMMOGYBNLNACRHZUZCYUPQRMJORRPNUCQIPYDPFVBNXHIFAFAOTWVULSDUSMBLLIEYEMMSXZROMZXZXBCVWRMLFORAQEWYFFNVVVMFGRGHWRFSRQWNGVBNJJWDSSBDPZLHELQCPJPRKOVVAUHQLSGIENELKWLDXZHXROUCBGYUVCILPSIDWPDCUXGHMUNIJOLPGDSMOOQCGKUMGTXXEWVGGSDFARAGVQBNXVIHXGLJEYLECFDQAIWAHUDAHZGISHRULSSFSWMINEEHJBVIDHVYSSOZHXEXCQNUGFQUWWNIFHDJLGWJKTEFRWZWOGRXABFKQHGCSADJZSCQLWPMDCXMJNCCLUBRBVILZZSGVCPVDNCPHJXEWVLBWWNWHDGGQUSGKNFWLHPTXFFVLPTYHZMMSFMOYMBHZABWKNDFCTWLPLXMUXGFMCGJYVHRPMOXCRXWFWLLEROEIEVZHWJRONFPGNYESOYWPPHZBKZQLIRPQBSR\n",
      "============================================ENIGMA OUTPUT==================================================\n",
      "Output Text:\n",
      " UMCBRVIAVKIWMMMEVUUCCIOHWIXSDRWGNFZPBJEFBRUNFQUJEBUZVQQWLEAOBDEPAYAGAOQBVJVBHIYTULMHYOIRBIJPYXIMVKKFWFWFVHNIQXHTWORPKBLGCBCJCPKYBXMYEMFAICEMHNQHXSQGANKNDKIYYRHVCKVDYXDQYEWFSPXTDWRNTWTYFMMXIKIQMTZXRVVNAHPJSTKPOYKJJMODPZANIRDWUSTZVRKACTOJLLOMKRELLAYQGORUTECKTJFITOCTQMYZJDVFFEHCOXXWJXYBXTJQLPDXGHHRHQOJPSYSTLYFZONFZEZEEMAOMLMSNTPWNSBVMJTWPDIOPNIICUMUPRXHEBFOUPWXELIKMOJWEUOZPAJTSZSQZFYCRRKWEVNGKWCDCDSKNOZJBKGRUSCULZMVUCTHQSELIYYQWMRYTJZVEBKCKBNMGXFULVHNFSTESUNUSTUSCYJTJOGXCAETJFSGHSOMBMAIJPKLBOXBKUXELGDLHSTLHRWYTUHCQPNWORMGLUNTZFEXIYHBJDHCGNARNGZZPUJXPURGWCDIESGQCYOJBYLJQINMZHKRORUQLCEZDTFVKKKMXXREVOWZIFGKBCKBIRXXMTAWZFJSOPALGANXMULHRJYDFFDIZAFTYLIJFSHDLWLULWWRCLCAIHOZOBWMJAFDUYOQYNXWCNCSFLDVACLFRVXSKVCSYYPMCVIMJVHLMKTJYZSQOAKOMPTYZLGRBHTWNUSHXFKLORPDYBVFZKJMFKKVQTUFJECPRZOYMPIDYITTFSUYLJOCXKMVZDXVSOFVNUDEESXFVDHOYRHBRFIYLAFZJEWKTARHRRSMLWXKNPYCZFSCIODGXRKDRMMTQDTJJUEZBHHNYKTCDTHQEAPSUOLLFEPIARWNQLLLRNZRNURRAYRIZYOLQUGVMNKPEKUIMIONSZCFFNQZUVOOPMXBLSWZGONKDUXWUWLJOPVSORIWUQAUHUGYRBNOMFPFNCAGGMCAWUCHGJISTVXTYTBSEYHSZRIVQJYGSGGQDYMJPROBBFRQJKJICBTMRRUNJHQQCDWHNJBRGUXELZONTMILJQPKNYCKYRIZFMWODHAASUGNTWOGWBSIQIF\n"
     ]
    }
   ],
   "source": [
    "#Test Decryption: mcguire_enigma_1.txt\n",
    "E1.setKey([1,2,0],[Char_Indices['Q'], Char_Indices['T'], Char_Indices['G']], 0, [])\n",
    "mcguire_text_1 = \"KCSTPUWPOZGOIJGHCKKUEADJGPLNXULCACTZYUFYYZSAPYILNDLUPZEUACKNVJGIDKSRLWDFRDLNPLVWVYPLNESNEBVMSWXESHYUKMSVWVQMFUDWBTCYLPDUNAMFDXWWSZBHSJDKOALLJXCJOJFASHDYQYYNDMCWPONPUTLAFJFUIOIHWOIACURBSOFQRLHYFITOUZQZOZWGQSQXPVEIMXUTDJLVFWZPQWMHXXGDZUPSPSRXQDHIXSGYFFIOXRLXBSHHQMIZRZRQYTHYRLZABEYGSKKJTSAABGSYIJOYRBIIXYHTNGHKXSUZLQXZBWNDDUPJPQJUWPIHBOSATVJNJRUWEWHLDMADMRJRWIEZRYYSHTKFFOFEEEOAGBZOOJLUJAPJNPMBUKEKNANALHTRSFUGXOPPBDQXWKNUOYOUNFRTIRJOCGXYGYWSXARBAPRJGZDFMUZNVDFQZVXKZAFJINRETRVDZGQHXLCDLDYBVFMEPDRVVKSNIFAMJOVCXFSLYGUXMQDHJMKYNCQZKDHCXBBYQVTBHVLQXAMCOWEBAWDDQQPSWLWCUBTTDIJRXUITMYPIXTFICMSLQGMKVJFDCZEBFTKCXATEVTHUAGFQPPINXYETNQMMOGYBNLNACRHZUZCYUPQRMJORRPNUCQIPYDPFVBNXHIFAFAOTWVULSDUSMBLLIEYEMMSXZROMZXZXBCVWRMLFORAQEWYFFNVVVMFGRGHWRFSRQWNGVBNJJWDSSBDPZLHELQCPJPRKOVVAUHQLSGIENELKWLDXZHXROUCBGYUVCILPSIDWPDCUXGHMUNIJOLPGDSMOOQCGKUMGTXXEWVGGSDFARAGVQBNXVIHXGLJEYLECFDQAIWAHUDAHZGISHRULSSFSWMINEEHJBVIDHVYSSOZHXEXCQNUGFQUWWNIFHDJLGWJKTEFRWZWOGRXABFKQHGCSADJZSCQLWPMDCXMJNCCLUBRBVILZZSGVCPVDNCPHJXEWVLBWWNWHDGGQUSGKNFWLHPTXFFVLPTYHZMMSFMOYMBHZABWKNDFCTWLPLXMUXGFMCGJYVHRPMOXCRXWFWLLEROEIEVZHWJRONFPGNYESOYWPPHZBKZQLIRPQBSR\"\n",
    "mg = E1.runEnigma(mcguire_text_1)"
   ]
  },
  {
   "cell_type": "code",
   "execution_count": 22,
   "metadata": {},
   "outputs": [
    {
     "name": "stdout",
     "output_type": "stream",
     "text": [
      "\n",
      "Initialized Enigma 3-Rotor Set with Plugboard Successfully\n",
      "-------------------------------------------------------------------------------------------------------\n",
      "======================================RUNNING ENIGMA CIPHER================================================\n",
      "Running Enigma Cipher on following Text Input (Character Count = 857 ):\n",
      " IRSHWHNHUGUWRNIGARRAETESETEWRHTWBURIRSHWFHTKOSINGRORAEDHXRRAHRIAHFNEZETINMYLIDEBEENINWUXAECXEPRIONHLWUTTOUNFINGWHWIAHFXAHNXEFROXOMEINRONOSRAEWRHTTYNIGARWEEMEFROMEGLOOMYINAOWPIRHBLEHNFFHTKETRAHNIRSHWINTEHLIRYISHWONHTHILSHYLINESAIXASHWWRILLINPTOXEWWODXONWRTUXRIONRAEAIGAAHLDDINIWAEFEMBHNKMENRRAEMOUNFWODWHNFXLHYHNFTUBBLERAEAOLEWRAESAEELBHTTOSWWRHNFINGAETEHNFRAETERAEDLHRROPWODRAEMUFAURWINSAIXARAESOTKMENLIZEFHLLRAIWMUFFLEXOLOUTEFROONERINRBYRAEFHTKNEWWGHZERAEEHTRAHWRTHNGESILFHWPEXRRAHRWUGGEWREFRAERIMEWODXAHOWRAETESHWWOLIRRLEOTFETINHLLRAHRLHYBEDOTEMERAHRIRSHWWOMEAOSWRTHNGEINRAEMIFWRODRAEAIFEOUWLYECXHZHREFGTOREWQUELOOKINGEHTRAROWEERAEWILAOUERREWODAUMHNBEINGWHNFRAEWLENFETRELEGTHPAPOWRWBORAWPOILEFRAEENWEMBLEODRAEPIXRUTEHNFWEEMEFROBELONGROHFIDDETENRSOTLFIRSHWWRILLHNFRAEONLYWOUNFXHMEDTOMRAERELEGTHPASITEFTONINGIRWSEHTIWOMETEDTHINWOMESAETEZETYAIGAHBOZEOUTAEHFW\n",
      "============================================ENIGMA OUTPUT==================================================\n",
      "Output Text:\n",
      " YJNPHVCTDMIXUJDXOLNBJAZIZWDSJPDNZXNOYDUXVJFIMDCAUXTGIAHDONYUPLBFOATHWVWSCKIFYTBNRWVJTJAROCZHBGUUJQIAFYDRWMPJCJWOPZTFCISMAIFLJFLHECNTZJTPKVZGIQBCRIXQSBZFUGVJFSLSOCNPXMQVAKBDMQUMKTRSXSPSIRDYXTKKPPCDDUREQLBHHUSWNJTVLZYOUOMAZJTLAUDYVEARYCZBMWLJFUJSCHUUIVDBDCKCIHMXMUMCNRKZCBMKXQUVAUXMISKJEVISSACTQRYZURMJUHLWUQDMECCLDYNDTUMXHXNOGYPVRPOZWHNCZRYFYMLEYOZEJXSWATXGFRKMKISBCOITYHFOUFHSPRJJMKLSFUZGLILHBWZUBAZXBFLCFZUFZKTREIGQIYCTMTFEBRWACVBDZHUVXBNDSCGZRBASMNDVZVZPYEBFEXNCKUGFIREQRQYUYITMBRVXLQHGFXHSWXWWCOFHLHYRZMEOYGYVXLNNWBVZODNIAGJDJZLMEUIQTDNHGHZBLVBNGTGOBKLAHMMCZJQQMTUQEAUVLMIPHQAFGIKUTTIUSRIIEHVMBEMKAFKJHLJEXQGSANDTWKJXWAENWDRGGDUZPKTJLVCDTMGFVICNGOFMDMOVGLONADAEWGTAVAHADMZOVWWNKFWSSRCYHHGCWHZMQZSDDHQGPZFPGDWNHWOYATZWBNBISDXHWCWSXRAPDXCWMXWNLGNCCROWYACWQBIWUOTFHWVVCCJHYVWRBHKFWOCDSQMPILUSZBMOZPEENGPXFOQIZOQIUDUNSCYCXCILBCQKMYDJRWFLAJRZRJECYHTKFNVFPJVOA\n"
     ]
    }
   ],
   "source": [
    "#Test Decryption: gin_enigma_1.txt\n",
    "E1.setKey([0,1,2], [8,11,20], 0, [['A','H'],['F','D'],['V','Z'],['S','W'],['R','T'],['C','X']])\n",
    "lisa_text_1 = \"irshwhnhuguwrnigarraetesetewrhtwburirshwfhtkosingroraedhxrrahriahfnezetinmylidebeeninwuxaecxeprionhlwuttounfingwhwiahfxahnxefroxomeinronosraewrhttynigarweemefromegloomyinaowpirhblehnffhtketrahnirshwintehliryishwonhthilshylinesaixashwwrillinptoxewwodxonwrtuxrionraeaigaahlddiniwaefembhnkmenrraemounfwodwhnfxlhyhnftubbleraeaolewraesaeelbhttoswwrhnfingaetehnfraeteraedlhrropwodraemufaurwinsaixaraesotkmenlizefhllraiwmufflexoloutefroonerinrbyraefhtknewwghzeraeehtrahwrthngesilfhwpexrrahrwuggewrefraerimewodxahowraeteshwwolirrleotfetinhllrahrlhybedotemerahrirshwwomeaoswrthngeinraemifwrodraeaifeouwlyecxhzhrefgtorewquelookingehtraroweeraewilaouerrewodaumhnbeingwhnfraewlenfetrelegthpapowrwborawpoilefraeenwembleodraepixrutehnfweemefrobelongrohfiddetenrsotlfirshwwrillhnfraeonlywounfxhmedtomraerelegthpasiteftoningirwsehtiwometedthinwomesaetezetyaigahbozeoutaehfw\"\n",
    "lg = E1.runEnigma(lisa_text_1)"
   ]
  },
  {
   "cell_type": "code",
   "execution_count": 23,
   "metadata": {},
   "outputs": [
    {
     "name": "stdout",
     "output_type": "stream",
     "text": [
      "\n",
      "Initialized Enigma 3-Rotor Set with Plugboard Successfully\n",
      "-------------------------------------------------------------------------------------------------------\n",
      "======================================RUNNING ENIGMA CIPHER================================================\n",
      "Running Enigma Cipher on following Text Input (Character Count = 1947 ):\n",
      " DKQVUWXMARDQKZEPNMVVYDDWGYODEEASDEMCHTIESLKGXQAOWYUKULTERGKBVKXDZNKQFTWIOOEHJGKPVYXDQLOADZQLWNUCKRKNXAQPPRUXETZKCBWVNYROLPPXHLXFPNIQFODTNHUKPXXSQARRTNNCNEBYCZZBVDJBDABKAKUZHDFRYJLUMETNUJNSBEVIIUTBORXWHGPWLWSCTTZNVCTQYJBLIBFLAZTHMSRIDMIHUXZJWCVVCQRNPLMHBAKHIDVHIGAAEUGFAVETWNHXMDRKRPYIFMPEXEQPDVOSUPCINXAHFULHLIOSGXSPBIFRAAFLDVDZDAQXOCTKNBNGKZHJDFTDQLDSFNVAUCTWVUPQJYZOYGTGRAARKNRSAVAAGZGVIZYFJZSYQSIPDADNWCQKNHOBRFVXUDSTGCUGJFTKYKFUUADHUZQJCVWEXFPABUTJMOCLJWHHLLXAEYGJFBDWECPQNMZEFKSGJZTOYFCTYNDGSLQOXMTAVULTMPBFWHECXEJCVMAYZTJZNJRKCKVONFRPNXEYNOMSNJUWQXLXVCYEZIDBCIXMWAXXUNANLWGNGBKTDWFRPFCSFVQPKZYDQXUNYPZKDOEURRIFMLMNXHZOMBWNJQVPIGCBQCTDCCAAGYBPHQEETSVXFDWAXICJBQLSPMTUZABIYFXCAXJGGZZWCUKXHBHWAKFAKDDAIMISFJTLBMLXRUBOWVUDBWOKLBUPEVPOIQFRYASUIHBVVJDNKPOBHFTRKXHTSSAPYZDYYNRGTXCSXSPGDCULUXWTBNXZPROPFVXKUGRMWWKVYNSOTKWWGUAYURUIYKGVUMQOABDQKIECHWXOAIUANHPUMJBADNPWIKVNPRRMZPJNWGNAVQUUSBPXAFOWUCQAQFSHRFFHGZWQWNHCECFDDWNYSEKXMGBFKBTJBJNGKSNLGURNGQJWZUPGABNVRAVJIQCXBOGGWESVISLDGREVBNKXGMRKJZGJMXMATSLSDHVVMVEDAXAZPDLDMNOQXFOQGWSATCUHUQSVGSNOKIEBOKJDHAPYSNWXBJZKMAOMGNUUDHTRKJWELUXVIUXFZVNMUGRPTWGPLQIMNFRXYUWMNFENBXOPPDCANRNNERBAVRQFQSLFGNDBPIDVLZZVQOQDROWSXWFAAQNREBWOCVDUMXPYFIOXLLEGIDJKFVOOXOHPQQMOHUDZKYSSWOCWTVLPQOAMRWXPYIWXPIOYRLPGYIAPYJHZUAYOFEWDXQUFRJFVBICPHZOWYNTOJRTXKBBXNYXLICSYKQRVKNEEYSICHHXRGZAKPOIPHVBMDITOBMOWCJONLTAZYVVOFYDFAQOGVAVJNLKFHWHTQRYOFHALYZTIQAZWGPTOFVZDCOUMGTQPBADHCJINGAMUWKEHEQGWVLSRSCNPNBJQEYVWSCHJAIDEJRPPHHBTMLKNABAYSMENVOBAJJJIUKWJXWPGQOVAHPCVDSAQLZFKPHSCMUPHCROQWNUXCGZTFXVBYALSKSOFYHPAJGLOSCNETTCCUGKMDAEFIZGPMHUCCVPDHOUDWJMVTDTXLVOQWNCJHYHLGUMTJWGLSWXOBWQABCXLULKVQXBMVQTSJFZAXIRPSVUBXGGGAMSCSYXFQBIRCWSJSFPCDLWOYNBRBLUIKDJLZLIAFOASZTFSKCMGVGIOQBIXLZRBOYOKXJMKRXOSGFLJGLSPAOCCBOLAVHLFNATVGYSRSJHVHVCLTYUKRCGLZVZGSLICIHCQKFTNHRIQMCNCDLDCARJUKJJWLOAPEMRWCKQKGBDDNCFBUSOSYIHBSYHXAFBUHMBGUMYBXREGGZMZRRPETTGUWFQPVEAUBTFERMBFBHZURLRFRALCDCQEWAYWYFDUKJIAYHBKFQMRCTKIVSPCXUKJBZXWCGARUMJSVVCWORVXIXZYDDZDICXMBZMQIDOJAZL\n",
      "============================================ENIGMA OUTPUT==================================================\n",
      "Output Text:\n",
      " KLLQEJSLUWMBJDFDETXMPRNTLPTFOPVZBNNQDBWBCOCBOXUSFZJSHVIAORMRUYYGXUTCCPCODLHYBBBABBNNKVYWKYYNJVJMXYVUDEFNRIWUPSXYGCGQYBQPRFANICKHRYWKAUWESNTEWBMDMWDPWKVLBJUUUSHXDVIIXLDMLPIOGXVZJSTHIOBXWKJJDKSERDNKFKNLJMZEFKKPHRVAZGBIOCEXHLSAGQPTALURCYDSWUCFSTTDREQGYJSVZZVFLKTWXDDBJZQSVXBATYFLVVHYYRCZUXESFCJJYESBQUDDIIOESMJEHGEDQQJHUYLUFLUKLOUOZHHBEROHJHEXYTNBRHWWYFYQHRCYDRPSXGBZXPDUPWQVDDQZAXBBTJRHRQEBSEAWKFXKYQCIOHFTMRGNBAVOMVSYRWIQUIQUNLBOAZGEMYCXZBREIWJDPATMMWHRFRYBIOXMYZGUJAPCUPICSPFXZUDYLVWQMDKVVHLMIOQZQVOQINKQCFHBPNNALOCTBDOHQDWFPCONYWMRKZALGGOJUZUKLSSHCPCGYBSSFEMBMRNGNLLSBXWJIZPPOJLDVJBESJTOIOPWDWHKOLOOOBAOOLROOXDQOMUDJWWLNNLPEXQOWNZQZPACPRLJREWWHIAWQBKGQFSOELGPIMDQEFGYSEICLEAJAWVGEHGWUHNBRWFVUFXQKREVTWPRBZLAKNHMOJOEFMEANMHRJSIIXPFIUCCKJHEYFBAHBGZNNOVRZLHIJXMPAFAVTQRSVMCQNVZZKGSTURMQIKJULHEXFCMMRQHWKHMRXEBEOBJXOYYLIOXYCOLMHYYAQJNZEIYPVSEZDPJXAVOPPZMRXAEXTIWWTEORSVOVLTULLRZVJUHNDUBJBTSOOTANEELEZLOFJMVZLBJNBPKEHBZFTPLPCNHNQPOWBOUUHXBPPQUYLANRJPXUTIJYESPKXYPFEOGOJXRNEUALFOHJOGMRDTFIBYFOIDYNOGNFXIRVPVPSQOTVUVPAZXGAHASIYERREKWQOPBYZSPWAYZMURUCGZPWIUJRVRPLQZKEYJJJVYZGZPCOQVQFMWMOLPAKTROLYZSJWKDSKHJNVNYSVBGCXYVDMQVFDYNOCFOPBKLQXWHPZCQMWQZYSLVJOSKQPDTUUSXJZPZFHIJFYJKIYHTNZADSKOPWWBMVXWMHGNXXAJTJLBJUOIGTTDQWLNHQAYRYBEDTHRESRPNUIKWZTUEKSHYRPQQASJXCTGCIKOGTYNSTVAUHYWTNDKUACCJBXTOARHOUNELTTTMJLKPQUEAHGETCRJYWCRSWMQMKOTXQHSLDUBCHNFRNMKOJAIXGQHKIZPYSGQEDRJJOXLXUITLKSCHNAXFISZFLGCXUQQQHCNHFWUWYXUHMRZILVLDAFXSXNFMWWDPNQZRGVHQQDTAVBJIFMCNUMSPGTQJPIQGODSQCCARZFKUFMVJGGLUVXTFVSUVAACFFZBMIHSMSLPKMWNLOQRMVXNLUWOLXXSRRGQBLDYFQEFFFYBPQAYFOAOLFTFQBEHAXAIMFTCDOQXWGZXJHQYWVIHAFKGKIRRMBHWDUTPXGXBIJMORXJMLUGRLXTVNHROBNERSXDLBDVZQKCUEJQNRDZIOJAVXIUMQQVIYOTENZWXGANKYWNOHBSRRONVYGKNUUAFUCQSCQYHRDAYTTTQXNMDDVTKENKXUOTMDITFZDOKMIIRVOXLLMAMLBOWDPLGBIMEHJAWCQNSGMRGSOYQPHXYMVEAFCAPOKTOJTFMWHXKSRGKTBVKOQPEPDMPOKRMPFALDQQAGDDJBTSKKNEZJRJCZCSUMCJOUUAKJWJCXRIUPSHSBDDJOQGXKMDRJIADOYQHRLYGGSMDCRZENVSEPCNNREKSKMOPUONEALAJQCEYQGQLPEPGWLSGQQIAOTYVBKHBFYFOKZCSHWUAMXSUX\n"
     ]
    }
   ],
   "source": [
    "#Test Decryption: zhengyuan_enigma_1.txt\n",
    "E1.setKey([0,1,2], [3,1,4], 0, [['J', 'Z'], ['K', 'F'], ['C', 'G'], ['D', 'H'], ['E', 'L'],['I','B']])\n",
    "zgyn_text_1 = \"dkqvuwxmardqkzepnmvvyddwgyodeeasdemchtieslkgxqaowyukultergkbvkxdznkqftwiooehjgkpvyxdqloadzqlwnuckrknxaqppruxetzkcbwvnyrolppxhlxfpniqfodtnhukpxxsqarrtnncnebyczzbvdjbdabkakuzhdfryjlumetnujnsbeviiutborxwhgpwlwscttznvctqyjblibflazthmsridmihuxzjwcvvcqrnplmhbakhidvhigaaeugfavetwnhxmdrkrpyifmpexeqpdvosupcinxahfulhliosgxspbifraafldvdzdaqxoctknbngkzhjdftdqldsfnvauctwvupqjyzoygtgraarknrsavaagzgvizyfjzsyqsipdadnwcqknhobrfvxudstgcugjftkykfuuadhuzqjcvwexfpabutjmocljwhhllxaeygjfbdwecpqnmzefksgjztoyfctyndgslqoxmtavultmpbfwhecxejcvmayztjznjrkckvonfrpnxeynomsnjuwqxlxvcyezidbcixmwaxxunanlwgngbktdwfrpfcsfvqpkzydqxunypzkdoeurrifmlmnxhzombwnjqvpigcbqctdccaagybphqeetsvxfdwaxicjbqlspmtuzabiyfxcaxjggzzwcukxhbhwakfakddaimisfjtlbmlxrubowvudbwoklbupevpoiqfryasuihbvvjdnkpobhftrkxhtssapyzdyynrgtxcsxspgdculuxwtbnxzpropfvxkugrmwwkvynsotkwwguayuruiykgvumqoabdqkiechwxoaiuanhpumjbadnpwikvnprrmzpjnwgnavquusbpxafowucqaqfshrffhgzwqwnhcecfddwnysekxmgbfkbtjbjngksnlgurngqjwzupgabnvravjiqcxboggwesvisldgrevbnkxgmrkjzgjmxmatslsdhvvmvedaxazpdldmnoqxfoqgwsatcuhuqsvgsnokiebokjdhapysnwxbjzkmaomgnuudhtrkjweluxviuxfzvnmugrptwgplqimnfrxyuwmnfenbxoppdcanrnnerbavrqfqslfgndbpidvlzzvqoqdrowsxwfaaqnrebwocvdumxpyfioxllegidjkfvooxohpqqmohudzkysswocwtvlpqoamrwxpyiwxpioyrlpgyiapyjhzuayofewdxqufrjfvbicphzowyntojrtxkbbxnyxlicsykqrvkneeysichhxrgzakpoiphvbmditobmowcjonltazyvvofydfaqogvavjnlkfhwhtqryofhalyztiqazwgptofvzdcoumgtqpbadhcjingamuwkeheqgwvlsrscnpnbjqeyvwschjaidejrpphhbtmlknabaysmenvobajjjiukwjxwpgqovahpcvdsaqlzfkphscmuphcroqwnuxcgztfxvbyalsksofyhpajgloscnettccugkmdaefizgpmhuccvpdhoudwjmvtdtxlvoqwncjhyhlgumtjwglswxobwqabcxlulkvqxbmvqtsjfzaxirpsvubxgggamscsyxfqbircwsjsfpcdlwoynbrbluikdjlzliafoasztfskcmgvgioqbixlzrboyokxjmkrxosgfljglspaoccbolavhlfnatvgysrsjhvhvcltyukrcglzvzgslicihcqkftnhriqmcncdldcarjukjjwloapemrwckqkgbddncfbusosyihbsyhxafbuhmbgumybxreggzmzrrpettguwfqpveaubtfermbfbhzurlrfralcdcqewaywyfdukjiayhbkfqmrctkivspcxukjbzxwcgarumjsvvcworvxixzyddzdicxmbzmqidojazl\"\n",
    "\n",
    "zg = E1.runEnigma(zgyn_text_1)"
   ]
  },
  {
   "cell_type": "code",
   "execution_count": 24,
   "metadata": {},
   "outputs": [
    {
     "name": "stdout",
     "output_type": "stream",
     "text": [
      "\n",
      "Initialized Enigma 3-Rotor Set with Plugboard Successfully\n",
      "-------------------------------------------------------------------------------------------------------\n",
      "======================================RUNNING ENIGMA CIPHER================================================\n",
      "Running Enigma Cipher on following Text Input (Character Count = 1078 ):\n",
      " APKLOSHQHCPJVFZCHZDJBYYFKYSINUYTVIVLUVDUWRFAIFHFRLGMENHRVVHGSDRXQGHZTXEQBYBPHQCCXZPRJZHILHAROSXPXXEJOWKMKZKCAZRBVZIPUFJVJARONBXSIXVWHQJCCZAQOPGNISOBXGDLYOGSNXYGWOOEUIBPFEYDGOMJYHQFOFLGRJTUWSKWUKIPIUACIGLGZYYUGVSRUSKQMRJDDWOCPXCZJAYJARYZOWEOPISPAWSIEJYDMNNANOPPXBAIRKJVWMAKAOUIOKTODRRDZDFPNVIAEJVXVTUDHDLJFMKSCYHTAAUKYYGDZKOHEMBYIJOFHWFJMLRQOFNJBDTNQGERPHKHWKBITJPGLWEQFETECTAXEMRCFXRETEWSEYIZBTIFLTFSPCXKBKEEBTNCUJWFHSWYIGHMOPYNACJLSJMIKXJYBXASWDHTAPEIVDPHMVNWSZMIAQYRXFXOBSSXRRBWEDBXJOUKCKNXBAXBGAVFIHEEGHQKXZJBVFUZKIGNENTNTAGPWPYKXQIYUGADBYFTLTLMJUMYKFBTMCZSEEXYXSPAOMUMXWFNSGTSJYDILCNLUPDZWYMMWUHMBLTRMCMLCNABJTYSSICWEYALLRHJHKURSZYDNAOJJMCXDBJMVMIYZEMQTHBWTIDGCYFZVFWEVAZQKVFFNNSQMOVAEBGWIDPZOUHNCHXWVMUVGBPUHBFYRLLOEPTUZKXOHNVASQJUWOOCUFBWCFJPZUGLXEAJUBDTTERHZQRSEOUHFDVWNTWPNKRAPYUXEQYOBPSPFBINFQGVQDKQPACMMYPPRLIECAVZISAYKCIULMJHOEHVHDPGBLGTJPDKZFKTKXQWPNOXCAKGBGLOXTYCUYDYJNBNOUNVCXLHNAGNEEZVRKEKEETYNUDEKHVSGDKEPBBSTWDESGMNCCJHTXXZJREDGKGNEQWRXKFOFNGNSLAETQDOTBRIDOQIWSNTHGAUJKSXIFPWLGMMLSEGXDNVZBQDOZXUKCVANJYWHRLBBQHRIHCDKHAZHNKYHXBAMGVSVUFJCVDIMIAVLHDHYDEGXPDMIFCKQA\n",
      "============================================ENIGMA OUTPUT==================================================\n",
      "Output Text:\n",
      " SMOIJRDLFDGMRVHMVTTNKEXYANMQAGENYQCKRSKGJQBPDOVZUPKGHHCEXCKXGMDOCPRWLKNYVSJXNPKNUNHOTTLVZZLZSODRCTJLLPQBPFGFIGORHWWDTMBKGHPUEXHXXHIFVIQNPDYDCCMMSJICTYIVLNZHPNPHIZXFIJJATDHIHVTYLKOYKOANVIKWKFRGMYOCGAZYXNUFSRXTIGVEVDXNNVYFKAHHBAUYYVXGIWDJBZACHFZZJJDHBVCWITAKLQZHBHWKBZQGRCTTWXBXWCKBUPYSKPLLSJNNUTSHDBCTUEAAVYOHKZCFVHXTHRSZMWPEQJRNPYIMWIWQDGFUVZAZUMMOLKYTGLVPNFZVLLURTHZYQFXCAWMDVKGKLOTONZMRJDHXYBNDMENOAQMYOJNQXDYVTZGVQNEVCJXDXCPDSZCUAOQELCSAUHUDNISVXOGHYGRDVEBGVTIXOAVBFLQQXKCBIQIJUYFYSGEVTMBGHHBLYWDTFUCWRWATBHATCPIWJTCFIJNKGBQGHGDRLWCGWWMRGDDZEJSNSFGUNOVJBBFEIDCBYAZFFLCULFIHVYSABFAKKNPVFWUCIMZGTTJOGIVECEAYIQOOLFLZOWBOKVNGPMPKFIRZPGIIVMQOHGXRZMQQJPCUUXGOAXFDWPBITKCKLDLKQQJREAJSEWBVPGSECGWYFBVFWKKWQRWNLLCWHYVNUUENMEOQMSFOXSUHJJBUDPVDQXBLGGYCNKLTTLWTSMJURUPKWTIKWOBTMACSBPBYZJSHUHJGVMLWRCHKYAOADHJMNKXZZREHAWYAYGMXSGHKQGXAVWJRFPKDOSTVHLZKYIHZJCTMSYCZRHGJICSQOZBCVQTXQUGYZCUHLVGZGRWULRHPWDREDEWIZNLBLISVMVGBISNIGQEJSSUVGXHIXFATVEUGGLXSLJATZWFJYHLEAJCAOWBATYCXWTNHRCREHASNIRRCCLMAFZGFQFTJEIWHNBJVTRTCFXXDGNTUCQJSCLYICKRRIUBHXHIHZAJBWZVKKMIGSKWEQKSRBXRTWYTAYRUKOSXIOKPSAURGNVZTPK\n"
     ]
    }
   ],
   "source": [
    "#Test Decryption: samiha_enigma_1.txt\n",
    "E1.setKey([0,2,1], [10,3,1], 0, [['A', 'G'], ['M', 'T'], ['C', 'R'], ['S', 'F'], ['E', 'N'],['U','Z']])\n",
    "samiha_text_1 = \"APKLOSHQHCPJVFZCHZDJBYYFKYSINUYTVIVLUVDUWRFAIFHFRLGMENHRVVHGSDRXQGHZTXEQBYBPHQCCXZPRJZHILHAROSXPXXEJOWKMKZKCAZRBVZIPUFJVJARONBXSIXVWHQJCCZAQOPGNISOBXGDLYOGSNXYGWOOEUIBPFEYDGOMJYHQFOFLGRJTUWSKWUKIPIUACIGLGZYYUGVSRUSKQMRJDDWOCPXCZJAYJARYZOWEOPISPAWSIEJYDMNNANOPPXBAIRKJVWMAKAOUIOKTODRRDZDFPNVIAEJVXVTUDHDLJFMKSCYHTAAUKYYGDZKOHEMBYIJOFHWFJMLRQOFNJBDTNQGERPHKHWKBITJPGLWEQFETECTAXEMRCFXRETEWSEYIZBTIFLTFSPCXKBKEEBTNCUJWFHSWYIGHMOPYNACJLSJMIKXJYBXASWDHTAPEIVDPHMVNWSZMIAQYRXFXOBSSXRRBWEDBXJOUKCKNXBAXBGAVFIHEEGHQKXZJBVFUZKIGNENTNTAGPWPYKXQIYUGADBYFTLTLMJUMYKFBTMCZSEEXYXSPAOMUMXWFNSGTSJYDILCNLUPDZWYMMWUHMBLTRMCMLCNABJTYSSICWEYALLRHJHKURSZYDNAOJJMCXDBJMVMIYZEMQTHBWTIDGCYFZVFWEVAZQKVFFNNSQMOVAEBGWIDPZOUHNCHXWVMUVGBPUHBFYRLLOEPTUZKXOHNVASQJUWOOCUFBWCFJPZUGLXEAJUBDTTERHZQRSEOUHFDVWNTWPNKRAPYUXEQYOBPSPFBINFQGVQDKQPACMMYPPRLIECAVZISAYKCIULMJHOEHVHDPGBLGTJPDKZFKTKXQWPNOXCAKGBGLOXTYCUYDYJNBNOUNVCXLHNAGNEEZVRKEKEETYNUDEKHVSGDKEPBBSTWDESGMNCCJHTXXZJREDGKGNEQWRXKFOFNGNSLAETQDOTBRIDOQIWSNTHGAUJKSXIFPWLGMMLSEGXDNVZBQDOZXUKCVANJYWHRLBBQHRIHCDKHAZHNKYHXBAMGVSVUFJCVDIMIAVLHDHYDEGXPDMIFCKQA\"\n",
    "samiha = E1.runEnigma(samiha_text_1)"
   ]
  },
  {
   "cell_type": "markdown",
   "metadata": {
    "collapsed": true
   },
   "source": [
    "### Cracking the Enigma Cipher \n",
    "\n",
    "#### Overview\n",
    "Discussed below is theory and method used to crack the Enigma Cipher. \n",
    "\n",
    "#### Known-Plaintext Attack Methodology\n",
    "Provided with a text of length approximately 1000 characters and a 50 character crib of plaintext and corresponding cipher text, the goal was to use the the plaintext crib to work out the key settings and then work back from there to decrypt the rest of the cipher text. "
   ]
  }
 ],
 "metadata": {
  "kernelspec": {
   "display_name": "Python 3",
   "language": "python",
   "name": "python3"
  },
  "language_info": {
   "codemirror_mode": {
    "name": "ipython",
    "version": 3
   },
   "file_extension": ".py",
   "mimetype": "text/x-python",
   "name": "python",
   "nbconvert_exporter": "python",
   "pygments_lexer": "ipython3",
   "version": "3.7.7"
  }
 },
 "nbformat": 4,
 "nbformat_minor": 2
}
